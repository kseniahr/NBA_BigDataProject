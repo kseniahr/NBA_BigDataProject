{
 "cells": [
  {
   "cell_type": "code",
<<<<<<< HEAD
   "execution_count": 12,
=======
   "execution_count": 1,
>>>>>>> 4c54a06e92ab0c2cbc7a730c9b23c8b37b9c8303
   "metadata": {},
   "outputs": [],
   "source": [
    "import pandas as pd\n",
    "import numpy as np\n",
    "import matplotlib.pyplot as plt\n",
    "import seaborn as sns\n",
    "import glob\n",
    "import os\n",
    "os.chdir(\"data/shots\")"
   ]
  },
  {
   "cell_type": "code",
<<<<<<< HEAD
   "execution_count": 50,
=======
   "execution_count": 2,
   "metadata": {},
   "outputs": [
    {
     "name": "stdout",
     "output_type": "stream",
     "text": [
      "['shot log ATL.csv', 'shot log BOS.csv', 'shot log BRO.csv', 'shot log CHA.csv', 'shot log CHI.csv', 'shot log CLE.csv', 'shot log DAL.csv', 'shot log DEN.csv', 'shot log DET.csv', 'shot log GSW.csv', 'shot log HOU.csv', 'shot log IND.csv', 'shot log LAC.csv', 'shot log LAL.csv', 'shot log MEM.csv', 'shot log MIA.csv', 'shot log MIL.csv', 'shot log MIN.csv', 'shot log NOP.csv', 'shot log NYK.csv', 'shot log OKL.csv', 'shot log ORL.csv', 'shot log PHI.csv', 'shot log PHX.csv', 'shot log POR.csv', 'shot log SAC.csv', 'shot log SAS.csv', 'shot log TOR.csv', 'shot log UTA.csv', 'shot log WAS.csv']\n"
     ]
    }
   ],
   "source": [
    "extension = 'csv'\n",
    "all_filenames = [i for i in glob.glob('*.{}'.format(extension))]\n",
    "print(all_filenames)"
   ]
  },
  {
   "cell_type": "markdown",
>>>>>>> 4c54a06e92ab0c2cbc7a730c9b23c8b37b9c8303
   "metadata": {},
   "source": [
<<<<<<< HEAD
    "df = pd.read_csv('./data/shots/shot log PHX.csv')"
=======
    "(The cell below is to be executed only once. Number of rows has to be 210072)"
>>>>>>> 4c54a06e92ab0c2cbc7a730c9b23c8b37b9c8303
   ]
  },
  {
   "cell_type": "code",
<<<<<<< HEAD
   "execution_count": 51,
   "metadata": {},
   "outputs": [
    {
     "data": {
      "text/plain": [
       "(7259, 17)"
      ]
     },
     "execution_count": 51,
     "metadata": {},
     "output_type": "execute_result"
=======
   "execution_count": 6,
   "metadata": {},
   "outputs": [
    {
     "ename": "SyntaxError",
     "evalue": "(unicode error) 'unicodeescape' codec can't decode bytes in position 0-1: truncated \\UXXXXXXXX escape (<ipython-input-6-ef7edd65217b>, line 4)",
     "output_type": "error",
     "traceback": [
      "\u001b[1;36m  File \u001b[1;32m\"<ipython-input-6-ef7edd65217b>\"\u001b[1;36m, line \u001b[1;32m4\u001b[0m\n\u001b[1;33m    combined_csv.to_csv(\"\\Users\\laman\\Desktop\\NBA_BigDataProject\\data\\combined_csv.csv\", index=False, encoding='utf-8-sig')\u001b[0m\n\u001b[1;37m                       ^\u001b[0m\n\u001b[1;31mSyntaxError\u001b[0m\u001b[1;31m:\u001b[0m (unicode error) 'unicodeescape' codec can't decode bytes in position 0-1: truncated \\UXXXXXXXX escape\n"
     ]
>>>>>>> 4c54a06e92ab0c2cbc7a730c9b23c8b37b9c8303
    }
   ],
   "source": [
    "#combine all files in the list\n",
    "combined_csv = pd.concat([pd.read_csv(f) for f in all_filenames ])\n",
    "#export to csv\n",
    "combined_csv.to_csv(\"/Users/oksanahrytsiv/Documents/GitHub/NBA_BigDataProject/data/combined_csv.csv\", index=False, encoding='utf-8-sig')"
   ]
  },
  {
   "cell_type": "code",
   "execution_count": null,
   "metadata": {},
   "outputs": [],
   "source": [
    "df = pd.DataFrame(combined_csv)"
   ]
  },
  {
   "cell_type": "code",
   "execution_count": null,
   "metadata": {},
   "outputs": [],
   "source": [
    "df.shape"
   ]
  },
  {
   "cell_type": "code",
<<<<<<< HEAD
   "execution_count": 52,
   "metadata": {},
   "outputs": [
    {
     "data": {
      "text/html": [
       "<div>\n",
       "<style scoped>\n",
       "    .dataframe tbody tr th:only-of-type {\n",
       "        vertical-align: middle;\n",
       "    }\n",
       "\n",
       "    .dataframe tbody tr th {\n",
       "        vertical-align: top;\n",
       "    }\n",
       "\n",
       "    .dataframe thead th {\n",
       "        text-align: right;\n",
       "    }\n",
       "</style>\n",
       "<table border=\"1\" class=\"dataframe\">\n",
       "  <thead>\n",
       "    <tr style=\"text-align: right;\">\n",
       "      <th></th>\n",
       "      <th>Unnamed: 0</th>\n",
       "      <th>self previous shot</th>\n",
       "      <th>player position</th>\n",
       "      <th>home game</th>\n",
       "      <th>location x</th>\n",
       "      <th>opponent previous shot</th>\n",
       "      <th>home team</th>\n",
       "      <th>shot type</th>\n",
       "      <th>points</th>\n",
       "      <th>away team</th>\n",
       "      <th>location y</th>\n",
       "      <th>time</th>\n",
       "      <th>date</th>\n",
       "      <th>shoot player</th>\n",
       "      <th>time from last shot</th>\n",
       "      <th>quarter</th>\n",
       "      <th>current shot outcome</th>\n",
       "    </tr>\n",
       "  </thead>\n",
       "  <tbody>\n",
       "    <tr>\n",
       "      <th>0</th>\n",
       "      <td>0</td>\n",
       "      <td>NaN</td>\n",
       "      <td>PF</td>\n",
       "      <td>Yes</td>\n",
       "      <td>107.0</td>\n",
       "      <td>SCORED</td>\n",
       "      <td>PHX</td>\n",
       "      <td>Floating Jump Shot</td>\n",
       "      <td>2</td>\n",
       "      <td>SAC</td>\n",
       "      <td>252.0</td>\n",
       "      <td>0:51</td>\n",
       "      <td>2016-10-26</td>\n",
       "      <td>Jared Dudley</td>\n",
       "      <td>NaN</td>\n",
       "      <td>1</td>\n",
       "      <td>SCORED</td>\n",
       "    </tr>\n",
       "    <tr>\n",
       "      <th>1</th>\n",
       "      <td>1</td>\n",
       "      <td>SCORED</td>\n",
       "      <td>SG</td>\n",
       "      <td>Yes</td>\n",
       "      <td>254.0</td>\n",
       "      <td>MISSED</td>\n",
       "      <td>PHX</td>\n",
       "      <td>Jump Shot</td>\n",
       "      <td>3</td>\n",
       "      <td>SAC</td>\n",
       "      <td>56.0</td>\n",
       "      <td>1:14</td>\n",
       "      <td>2016-10-26</td>\n",
       "      <td>Devin Booker</td>\n",
       "      <td>23.0</td>\n",
       "      <td>1</td>\n",
       "      <td>MISSED</td>\n",
       "    </tr>\n",
       "    <tr>\n",
       "      <th>2</th>\n",
       "      <td>2</td>\n",
       "      <td>MISSED</td>\n",
       "      <td>C</td>\n",
       "      <td>Yes</td>\n",
       "      <td>52.0</td>\n",
       "      <td>SCORED</td>\n",
       "      <td>PHX</td>\n",
       "      <td>Cutting Dunk Shot</td>\n",
       "      <td>2</td>\n",
       "      <td>SAC</td>\n",
       "      <td>250.0</td>\n",
       "      <td>1:44</td>\n",
       "      <td>2016-10-26</td>\n",
       "      <td>Tyson Chandler</td>\n",
       "      <td>30.0</td>\n",
       "      <td>1</td>\n",
       "      <td>SCORED</td>\n",
       "    </tr>\n",
       "    <tr>\n",
       "      <th>3</th>\n",
       "      <td>3</td>\n",
       "      <td>SCORED</td>\n",
       "      <td>PG</td>\n",
       "      <td>Yes</td>\n",
       "      <td>241.0</td>\n",
       "      <td>MISSED</td>\n",
       "      <td>PHX</td>\n",
       "      <td>Pullup Jump Shot</td>\n",
       "      <td>2</td>\n",
       "      <td>SAC</td>\n",
       "      <td>359.0</td>\n",
       "      <td>2:16</td>\n",
       "      <td>2016-10-26</td>\n",
       "      <td>Eric Bledsoe</td>\n",
       "      <td>32.0</td>\n",
       "      <td>1</td>\n",
       "      <td>MISSED</td>\n",
       "    </tr>\n",
       "    <tr>\n",
       "      <th>4</th>\n",
       "      <td>4</td>\n",
       "      <td>MISSED</td>\n",
       "      <td>SG</td>\n",
       "      <td>Yes</td>\n",
       "      <td>225.0</td>\n",
       "      <td>MISSED</td>\n",
       "      <td>PHX</td>\n",
       "      <td>Jump Shot</td>\n",
       "      <td>3</td>\n",
       "      <td>SAC</td>\n",
       "      <td>447.0</td>\n",
       "      <td>2:40</td>\n",
       "      <td>2016-10-26</td>\n",
       "      <td>Devin Booker</td>\n",
       "      <td>24.0</td>\n",
       "      <td>1</td>\n",
       "      <td>MISSED</td>\n",
       "    </tr>\n",
       "  </tbody>\n",
       "</table>\n",
       "</div>"
      ],
      "text/plain": [
       "   Unnamed: 0 self previous shot player position home game  location x  \\\n",
       "0           0                NaN              PF       Yes       107.0   \n",
       "1           1             SCORED              SG       Yes       254.0   \n",
       "2           2             MISSED               C       Yes        52.0   \n",
       "3           3             SCORED              PG       Yes       241.0   \n",
       "4           4             MISSED              SG       Yes       225.0   \n",
       "\n",
       "  opponent previous shot home team           shot type  points away team  \\\n",
       "0                 SCORED       PHX  Floating Jump Shot       2       SAC   \n",
       "1                 MISSED       PHX           Jump Shot       3       SAC   \n",
       "2                 SCORED       PHX   Cutting Dunk Shot       2       SAC   \n",
       "3                 MISSED       PHX    Pullup Jump Shot       2       SAC   \n",
       "4                 MISSED       PHX           Jump Shot       3       SAC   \n",
       "\n",
       "   location y  time        date    shoot player  time from last shot  quarter  \\\n",
       "0       252.0  0:51  2016-10-26    Jared Dudley                  NaN        1   \n",
       "1        56.0  1:14  2016-10-26    Devin Booker                 23.0        1   \n",
       "2       250.0  1:44  2016-10-26  Tyson Chandler                 30.0        1   \n",
       "3       359.0  2:16  2016-10-26    Eric Bledsoe                 32.0        1   \n",
       "4       447.0  2:40  2016-10-26    Devin Booker                 24.0        1   \n",
       "\n",
       "  current shot outcome  \n",
       "0               SCORED  \n",
       "1               MISSED  \n",
       "2               SCORED  \n",
       "3               MISSED  \n",
       "4               MISSED  "
      ]
     },
     "execution_count": 52,
     "metadata": {},
     "output_type": "execute_result"
    }
   ],
   "source": [
    "df.head()"
   ]
  },
  {
   "cell_type": "code",
   "execution_count": 48,
   "metadata": {},
   "outputs": [
    {
     "data": {
      "text/plain": [
       "array(['Floating Jump Shot', 'Jump Shot', 'Cutting Dunk Shot',\n",
       "       'Pullup Jump Shot', 'Layup', 'Running Layup',\n",
       "       'Step Back Jump Shot', 'Hook Shot', 'Tip Layup Shot',\n",
       "       'Cutting Layup Shot', 'Driving Layup', 'Putback Dunk',\n",
       "       'Jump Bank Shot', 'Turnaround Jump Shot', 'Running Dunk',\n",
       "       'Putback Layup', 'Dunk', 'Alley Oop Layup', 'Alley Oop Dunk',\n",
       "       'Driving Floating Bank Jump Shot', 'Driving Reverse Layup',\n",
       "       'Turnaround Hook Shot', 'Turnaround Fadeaway Shot',\n",
       "       'Running Jump Shot', 'Fadeaway Jumper', 'Tip Dunk Shot',\n",
       "       'Driving Floating Jump Shot', 'Driving Finger Roll Layup',\n",
       "       'Running Finger Roll Layup', 'Running Pull-Up Jump Shot',\n",
       "       'Finger Roll Layup', 'Driving Bank Shot', 'Reverse Layup',\n",
       "       'Driving Dunk', 'Driving Hook Shot', 'Turnaround Fadeaway',\n",
       "       'Pullup Bank Shot', 'Turnaround Bank Shot', 'Reverse Dunk',\n",
       "       'Driving Bank Hook Shot', 'Fadeaway Bank Shot',\n",
       "       'Cutting Finger Roll Layup Shot', 'Running Reverse Layup',\n",
       "       'Running Alley Oop Dunk Shot', 'Hook Bank Shot',\n",
       "       'Turnaround Bank Hook Shot', 'Running Alley Oop Layup Shot',\n",
       "       'Driving Reverse Dunk Shot', 'Turnaround Fadeaway Bank Jump Shot'],\n",
       "      dtype=object)"
      ]
     },
     "execution_count": 48,
     "metadata": {},
     "output_type": "execute_result"
    }
   ],
   "source": [
    "df['shot type'].unique()"
   ]
  },
  {
   "cell_type": "code",
   "execution_count": 49,
   "metadata": {},
   "outputs": [],
   "source": [
    "df['shot type'].replace({ \"Jones, Jr.  Cutting Dunk Shot\":'Cutting Dunk Shot',\n",
    "                        \"Jones, Jr. 7' Jump Shot\":'Jump Shot',\n",
    "                         \"Jones, Jr. 1' Tip Layup Shot\":'Tip Layup Shot',\n",
    "                         \"Jones, Jr.  Putback Dunk\":'Putback Dunk',\n",
    "                         \"Jones, Jr.  Alley Oop Dunk\":'Alley Oop Dunk'},inplace=True)"
   ]
  },
  {
   "cell_type": "code",
   "execution_count": 38,
   "metadata": {},
   "outputs": [
    {
     "data": {
      "text/plain": [
       "array(['Floating Jump Shot', 'Jump Shot', 'Cutting Dunk Shot',\n",
       "       'Pullup Jump Shot', 'Layup', 'Running Layup',\n",
       "       'Step Back Jump Shot', 'Hook Shot', 'Tip Layup Shot',\n",
       "       'Cutting Layup Shot', 'Driving Layup', 'Putback Dunk',\n",
       "       'Jump Bank Shot', 'Turnaround Jump Shot', 'Running Dunk',\n",
       "       'Putback Layup', 'Dunk', 'Alley Oop Layup', 'Alley Oop Dunk',\n",
       "       'Driving Floating Bank Jump Shot', 'Driving Reverse Layup',\n",
       "       'Turnaround Hook Shot', 'Turnaround Fadeaway Shot',\n",
       "       'Running Jump Shot', 'Fadeaway Jumper', 'Tip Dunk Shot',\n",
       "       'Driving Floating Jump Shot', 'Driving Finger Roll Layup',\n",
       "       'Running Finger Roll Layup', 'Running Pull-Up Jump Shot',\n",
       "       'Finger Roll Layup', 'Driving Bank Shot', 'Reverse Layup',\n",
       "       'Driving Dunk', 'Driving Hook Shot', 'Turnaround Fadeaway',\n",
       "       'Pullup Bank Shot', 'Turnaround Bank Shot', 'Reverse Dunk',\n",
       "       'Driving Bank Hook Shot', 'Fadeaway Bank Shot',\n",
       "       'Cutting Finger Roll Layup Shot', 'Running Reverse Layup',\n",
       "       'Running Alley Oop Dunk Shot', 'Hook Bank Shot',\n",
       "       'Turnaround Bank Hook Shot', 'Running Alley Oop Layup Shot',\n",
       "       'Driving Reverse Dunk Shot', 'Turnaround Fadeaway Bank Jump Shot'],\n",
       "      dtype=object)"
      ]
     },
     "execution_count": 38,
     "metadata": {},
     "output_type": "execute_result"
    }
   ],
   "source": [
    "df['shot type'].unique()"
   ]
  },
  {
   "cell_type": "code",
   "execution_count": 39,
   "metadata": {},
   "outputs": [
    {
     "data": {
      "text/plain": [
       "array(['Jared Dudley', 'Devin Booker', 'Tyson Chandler', 'Eric Bledsoe',\n",
       "       'TJ Warren', 'Alex Len', 'Brandon Knight', 'Leandro Barbosa',\n",
       "       'Marquese Chriss', 'Tyler Ulis', 'Dragan Bender', 'P.J. Tucker',\n",
       "       'Alan Williams', 'John Jenkins', 'Derrick Jones, Jr.',\n",
       "       'Ronnie Price', 'Jarell Eddie', 'Elijah Millsap'], dtype=object)"
      ]
     },
     "execution_count": 39,
     "metadata": {},
     "output_type": "execute_result"
    }
   ],
   "source": [
    "df['shoot player'].unique()"
   ]
  },
  {
   "cell_type": "code",
   "execution_count": 42,
   "metadata": {},
   "outputs": [],
   "source": [
    "df['shoot player'].replace({'Derrick Jones, Jr.':'Derrick Jones Jr'},inplace=True)"
   ]
  },
  {
   "cell_type": "code",
   "execution_count": 43,
   "metadata": {},
   "outputs": [
    {
     "data": {
      "text/plain": [
       "array(['Jared Dudley', 'Devin Booker', 'Tyson Chandler', 'Eric Bledsoe',\n",
       "       'TJ Warren', 'Alex Len', 'Brandon Knight', 'Leandro Barbosa',\n",
       "       'Marquese Chriss', 'Tyler Ulis', 'Dragan Bender', 'P.J. Tucker',\n",
       "       'Alan Williams', 'John Jenkins', 'Derrick Jones Jr',\n",
       "       'Ronnie Price', 'Jarell Eddie', 'Elijah Millsap'], dtype=object)"
      ]
     },
     "execution_count": 43,
     "metadata": {},
     "output_type": "execute_result"
    }
   ],
   "source": [
    "df['shoot player'].unique()"
   ]
  },
  {
   "cell_type": "code",
   "execution_count": 44,
=======
   "execution_count": null,
>>>>>>> 4c54a06e92ab0c2cbc7a730c9b23c8b37b9c8303
   "metadata": {},
   "outputs": [],
   "source": [
    "df.to_csv('./data/shots/shot log PHX.csv')"
   ]
  },
  {
   "cell_type": "code",
   "execution_count": 11,
   "metadata": {},
   "outputs": [
    {
     "ename": "KeyError",
     "evalue": "\"['self previous shot' 'opponent previous shot' 'time from last shot'] not found in axis\"",
     "output_type": "error",
     "traceback": [
      "\u001b[1;31m---------------------------------------------------------------------------\u001b[0m",
      "\u001b[1;31mKeyError\u001b[0m                                  Traceback (most recent call last)",
      "\u001b[1;32m<ipython-input-11-d921c2a98a42>\u001b[0m in \u001b[0;36m<module>\u001b[1;34m()\u001b[0m\n\u001b[1;32m----> 1\u001b[1;33m \u001b[0mdf\u001b[0m \u001b[1;33m=\u001b[0m \u001b[0mdf\u001b[0m\u001b[1;33m.\u001b[0m\u001b[0mdrop\u001b[0m\u001b[1;33m(\u001b[0m\u001b[1;33m[\u001b[0m\u001b[1;34m'self previous shot'\u001b[0m\u001b[1;33m,\u001b[0m \u001b[1;34m'opponent previous shot'\u001b[0m\u001b[1;33m,\u001b[0m \u001b[1;34m'time from last shot'\u001b[0m\u001b[1;33m]\u001b[0m\u001b[1;33m,\u001b[0m \u001b[0maxis\u001b[0m \u001b[1;33m=\u001b[0m \u001b[1;36m1\u001b[0m\u001b[1;33m)\u001b[0m\u001b[1;33m\u001b[0m\u001b[0m\n\u001b[0m\u001b[0;32m      2\u001b[0m \u001b[0mdf\u001b[0m \u001b[1;33m=\u001b[0m \u001b[0mdf\u001b[0m\u001b[1;33m.\u001b[0m\u001b[0mrename\u001b[0m\u001b[1;33m(\u001b[0m\u001b[0mcolumns\u001b[0m\u001b[1;33m=\u001b[0m\u001b[1;33m{\u001b[0m\u001b[1;34m'player position'\u001b[0m\u001b[1;33m:\u001b[0m\u001b[1;34m'player_position'\u001b[0m\u001b[1;33m,\u001b[0m\u001b[1;34m'shot type'\u001b[0m\u001b[1;33m:\u001b[0m\u001b[1;34m'shot_type'\u001b[0m\u001b[1;33m,\u001b[0m\u001b[1;34m'away team'\u001b[0m\u001b[1;33m:\u001b[0m \u001b[1;34m'away_team'\u001b[0m\u001b[1;33m,\u001b[0m\u001b[1;34m'current shot outcome'\u001b[0m\u001b[1;33m:\u001b[0m\u001b[1;34m'outcome'\u001b[0m\u001b[1;33m,\u001b[0m \u001b[1;34m'home team'\u001b[0m \u001b[1;33m:\u001b[0m \u001b[1;34m'home_team'\u001b[0m\u001b[1;33m,\u001b[0m \u001b[1;34m'location x'\u001b[0m\u001b[1;33m:\u001b[0m\u001b[1;34m'loc_x'\u001b[0m\u001b[1;33m,\u001b[0m\u001b[1;34m'location y'\u001b[0m\u001b[1;33m:\u001b[0m\u001b[1;34m'loc_y'\u001b[0m\u001b[1;33m,\u001b[0m\u001b[1;34m'shoot player'\u001b[0m\u001b[1;33m:\u001b[0m\u001b[1;34m'shooter'\u001b[0m\u001b[1;33m,\u001b[0m\u001b[1;34m'home game'\u001b[0m\u001b[1;33m:\u001b[0m\u001b[1;34m'home'\u001b[0m\u001b[1;33m}\u001b[0m\u001b[1;33m)\u001b[0m\u001b[1;33m\u001b[0m\u001b[0m\n",
      "\u001b[1;32mC:\\ProgramData\\Anaconda3\\lib\\site-packages\\pandas\\core\\frame.py\u001b[0m in \u001b[0;36mdrop\u001b[1;34m(self, labels, axis, index, columns, level, inplace, errors)\u001b[0m\n\u001b[0;32m   3938\u001b[0m                                            \u001b[0mindex\u001b[0m\u001b[1;33m=\u001b[0m\u001b[0mindex\u001b[0m\u001b[1;33m,\u001b[0m \u001b[0mcolumns\u001b[0m\u001b[1;33m=\u001b[0m\u001b[0mcolumns\u001b[0m\u001b[1;33m,\u001b[0m\u001b[1;33m\u001b[0m\u001b[0m\n\u001b[0;32m   3939\u001b[0m                                            \u001b[0mlevel\u001b[0m\u001b[1;33m=\u001b[0m\u001b[0mlevel\u001b[0m\u001b[1;33m,\u001b[0m \u001b[0minplace\u001b[0m\u001b[1;33m=\u001b[0m\u001b[0minplace\u001b[0m\u001b[1;33m,\u001b[0m\u001b[1;33m\u001b[0m\u001b[0m\n\u001b[1;32m-> 3940\u001b[1;33m                                            errors=errors)\n\u001b[0m\u001b[0;32m   3941\u001b[0m \u001b[1;33m\u001b[0m\u001b[0m\n\u001b[0;32m   3942\u001b[0m     @rewrite_axis_style_signature('mapper', [('copy', True),\n",
      "\u001b[1;32mC:\\ProgramData\\Anaconda3\\lib\\site-packages\\pandas\\core\\generic.py\u001b[0m in \u001b[0;36mdrop\u001b[1;34m(self, labels, axis, index, columns, level, inplace, errors)\u001b[0m\n\u001b[0;32m   3778\u001b[0m         \u001b[1;32mfor\u001b[0m \u001b[0maxis\u001b[0m\u001b[1;33m,\u001b[0m \u001b[0mlabels\u001b[0m \u001b[1;32min\u001b[0m \u001b[0maxes\u001b[0m\u001b[1;33m.\u001b[0m\u001b[0mitems\u001b[0m\u001b[1;33m(\u001b[0m\u001b[1;33m)\u001b[0m\u001b[1;33m:\u001b[0m\u001b[1;33m\u001b[0m\u001b[0m\n\u001b[0;32m   3779\u001b[0m             \u001b[1;32mif\u001b[0m \u001b[0mlabels\u001b[0m \u001b[1;32mis\u001b[0m \u001b[1;32mnot\u001b[0m \u001b[1;32mNone\u001b[0m\u001b[1;33m:\u001b[0m\u001b[1;33m\u001b[0m\u001b[0m\n\u001b[1;32m-> 3780\u001b[1;33m                 \u001b[0mobj\u001b[0m \u001b[1;33m=\u001b[0m \u001b[0mobj\u001b[0m\u001b[1;33m.\u001b[0m\u001b[0m_drop_axis\u001b[0m\u001b[1;33m(\u001b[0m\u001b[0mlabels\u001b[0m\u001b[1;33m,\u001b[0m \u001b[0maxis\u001b[0m\u001b[1;33m,\u001b[0m \u001b[0mlevel\u001b[0m\u001b[1;33m=\u001b[0m\u001b[0mlevel\u001b[0m\u001b[1;33m,\u001b[0m \u001b[0merrors\u001b[0m\u001b[1;33m=\u001b[0m\u001b[0merrors\u001b[0m\u001b[1;33m)\u001b[0m\u001b[1;33m\u001b[0m\u001b[0m\n\u001b[0m\u001b[0;32m   3781\u001b[0m \u001b[1;33m\u001b[0m\u001b[0m\n\u001b[0;32m   3782\u001b[0m         \u001b[1;32mif\u001b[0m \u001b[0minplace\u001b[0m\u001b[1;33m:\u001b[0m\u001b[1;33m\u001b[0m\u001b[0m\n",
      "\u001b[1;32mC:\\ProgramData\\Anaconda3\\lib\\site-packages\\pandas\\core\\generic.py\u001b[0m in \u001b[0;36m_drop_axis\u001b[1;34m(self, labels, axis, level, errors)\u001b[0m\n\u001b[0;32m   3810\u001b[0m                 \u001b[0mnew_axis\u001b[0m \u001b[1;33m=\u001b[0m \u001b[0maxis\u001b[0m\u001b[1;33m.\u001b[0m\u001b[0mdrop\u001b[0m\u001b[1;33m(\u001b[0m\u001b[0mlabels\u001b[0m\u001b[1;33m,\u001b[0m \u001b[0mlevel\u001b[0m\u001b[1;33m=\u001b[0m\u001b[0mlevel\u001b[0m\u001b[1;33m,\u001b[0m \u001b[0merrors\u001b[0m\u001b[1;33m=\u001b[0m\u001b[0merrors\u001b[0m\u001b[1;33m)\u001b[0m\u001b[1;33m\u001b[0m\u001b[0m\n\u001b[0;32m   3811\u001b[0m             \u001b[1;32melse\u001b[0m\u001b[1;33m:\u001b[0m\u001b[1;33m\u001b[0m\u001b[0m\n\u001b[1;32m-> 3812\u001b[1;33m                 \u001b[0mnew_axis\u001b[0m \u001b[1;33m=\u001b[0m \u001b[0maxis\u001b[0m\u001b[1;33m.\u001b[0m\u001b[0mdrop\u001b[0m\u001b[1;33m(\u001b[0m\u001b[0mlabels\u001b[0m\u001b[1;33m,\u001b[0m \u001b[0merrors\u001b[0m\u001b[1;33m=\u001b[0m\u001b[0merrors\u001b[0m\u001b[1;33m)\u001b[0m\u001b[1;33m\u001b[0m\u001b[0m\n\u001b[0m\u001b[0;32m   3813\u001b[0m             \u001b[0mresult\u001b[0m \u001b[1;33m=\u001b[0m \u001b[0mself\u001b[0m\u001b[1;33m.\u001b[0m\u001b[0mreindex\u001b[0m\u001b[1;33m(\u001b[0m\u001b[1;33m**\u001b[0m\u001b[1;33m{\u001b[0m\u001b[0maxis_name\u001b[0m\u001b[1;33m:\u001b[0m \u001b[0mnew_axis\u001b[0m\u001b[1;33m}\u001b[0m\u001b[1;33m)\u001b[0m\u001b[1;33m\u001b[0m\u001b[0m\n\u001b[0;32m   3814\u001b[0m \u001b[1;33m\u001b[0m\u001b[0m\n",
      "\u001b[1;32mC:\\ProgramData\\Anaconda3\\lib\\site-packages\\pandas\\core\\indexes\\base.py\u001b[0m in \u001b[0;36mdrop\u001b[1;34m(self, labels, errors)\u001b[0m\n\u001b[0;32m   4962\u001b[0m             \u001b[1;32mif\u001b[0m \u001b[0merrors\u001b[0m \u001b[1;33m!=\u001b[0m \u001b[1;34m'ignore'\u001b[0m\u001b[1;33m:\u001b[0m\u001b[1;33m\u001b[0m\u001b[0m\n\u001b[0;32m   4963\u001b[0m                 raise KeyError(\n\u001b[1;32m-> 4964\u001b[1;33m                     '{} not found in axis'.format(labels[mask]))\n\u001b[0m\u001b[0;32m   4965\u001b[0m             \u001b[0mindexer\u001b[0m \u001b[1;33m=\u001b[0m \u001b[0mindexer\u001b[0m\u001b[1;33m[\u001b[0m\u001b[1;33m~\u001b[0m\u001b[0mmask\u001b[0m\u001b[1;33m]\u001b[0m\u001b[1;33m\u001b[0m\u001b[0m\n\u001b[0;32m   4966\u001b[0m         \u001b[1;32mreturn\u001b[0m \u001b[0mself\u001b[0m\u001b[1;33m.\u001b[0m\u001b[0mdelete\u001b[0m\u001b[1;33m(\u001b[0m\u001b[0mindexer\u001b[0m\u001b[1;33m)\u001b[0m\u001b[1;33m\u001b[0m\u001b[0m\n",
      "\u001b[1;31mKeyError\u001b[0m: \"['self previous shot' 'opponent previous shot' 'time from last shot'] not found in axis\""
     ]
    }
   ],
   "source": [
    "df = df.drop(['self previous shot', 'opponent previous shot', 'time from last shot'], axis = 1)\n",
    "df = df.rename(columns={'player position':'player_position','shot type':'shot_type','away team': 'away_team','current shot outcome':'outcome', 'home team' : 'home_team', 'location x':'loc_x','location y':'loc_y','shoot player':'shooter','home game':'home'})"
   ]
  },
  {
   "cell_type": "code",
<<<<<<< HEAD
   "execution_count": 5,
   "metadata": {},
   "outputs": [
    {
     "data": {
      "text/html": [
       "<div>\n",
       "<style scoped>\n",
       "    .dataframe tbody tr th:only-of-type {\n",
       "        vertical-align: middle;\n",
       "    }\n",
       "\n",
       "    .dataframe tbody tr th {\n",
       "        vertical-align: top;\n",
       "    }\n",
       "\n",
       "    .dataframe thead th {\n",
       "        text-align: right;\n",
       "    }\n",
       "</style>\n",
       "<table border=\"1\" class=\"dataframe\">\n",
       "  <thead>\n",
       "    <tr style=\"text-align: right;\">\n",
       "      <th></th>\n",
       "      <th>player_position</th>\n",
       "      <th>home</th>\n",
       "      <th>loc_x</th>\n",
       "      <th>home_team</th>\n",
       "      <th>shot_type</th>\n",
       "      <th>points</th>\n",
       "      <th>away_team</th>\n",
       "      <th>loc_y</th>\n",
       "      <th>time</th>\n",
       "      <th>date</th>\n",
       "      <th>shooter</th>\n",
       "      <th>quarter</th>\n",
       "      <th>outcome</th>\n",
       "    </tr>\n",
       "  </thead>\n",
       "  <tbody>\n",
       "    <tr>\n",
       "      <th>0</th>\n",
       "      <td>PF</td>\n",
       "      <td>Yes</td>\n",
       "      <td>107.0</td>\n",
       "      <td>PHX</td>\n",
       "      <td>Floating Jump Shot</td>\n",
       "      <td>2</td>\n",
       "      <td>SAC</td>\n",
       "      <td>252.0</td>\n",
       "      <td>0:51</td>\n",
       "      <td>2016-10-26</td>\n",
       "      <td>Jared Dudley</td>\n",
       "      <td>1</td>\n",
       "      <td>SCORED</td>\n",
       "    </tr>\n",
       "    <tr>\n",
       "      <th>1</th>\n",
       "      <td>SG</td>\n",
       "      <td>Yes</td>\n",
       "      <td>254.0</td>\n",
       "      <td>PHX</td>\n",
       "      <td>Jump Shot</td>\n",
       "      <td>3</td>\n",
       "      <td>SAC</td>\n",
       "      <td>56.0</td>\n",
       "      <td>1:14</td>\n",
       "      <td>2016-10-26</td>\n",
       "      <td>Devin Booker</td>\n",
       "      <td>1</td>\n",
       "      <td>MISSED</td>\n",
       "    </tr>\n",
       "    <tr>\n",
       "      <th>2</th>\n",
       "      <td>C</td>\n",
       "      <td>Yes</td>\n",
       "      <td>52.0</td>\n",
       "      <td>PHX</td>\n",
       "      <td>Cutting Dunk Shot</td>\n",
       "      <td>2</td>\n",
       "      <td>SAC</td>\n",
       "      <td>250.0</td>\n",
       "      <td>1:44</td>\n",
       "      <td>2016-10-26</td>\n",
       "      <td>Tyson Chandler</td>\n",
       "      <td>1</td>\n",
       "      <td>SCORED</td>\n",
       "    </tr>\n",
       "    <tr>\n",
       "      <th>3</th>\n",
       "      <td>PG</td>\n",
       "      <td>Yes</td>\n",
       "      <td>241.0</td>\n",
       "      <td>PHX</td>\n",
       "      <td>Pullup Jump Shot</td>\n",
       "      <td>2</td>\n",
       "      <td>SAC</td>\n",
       "      <td>359.0</td>\n",
       "      <td>2:16</td>\n",
       "      <td>2016-10-26</td>\n",
       "      <td>Eric Bledsoe</td>\n",
       "      <td>1</td>\n",
       "      <td>MISSED</td>\n",
       "    </tr>\n",
       "    <tr>\n",
       "      <th>4</th>\n",
       "      <td>SG</td>\n",
       "      <td>Yes</td>\n",
       "      <td>225.0</td>\n",
       "      <td>PHX</td>\n",
       "      <td>Jump Shot</td>\n",
       "      <td>3</td>\n",
       "      <td>SAC</td>\n",
       "      <td>447.0</td>\n",
       "      <td>2:40</td>\n",
       "      <td>2016-10-26</td>\n",
       "      <td>Devin Booker</td>\n",
       "      <td>1</td>\n",
       "      <td>MISSED</td>\n",
       "    </tr>\n",
       "  </tbody>\n",
       "</table>\n",
       "</div>"
      ],
      "text/plain": [
       "  player_position home  loc_x home_team           shot_type  points away_team  \\\n",
       "0              PF  Yes  107.0       PHX  Floating Jump Shot       2       SAC   \n",
       "1              SG  Yes  254.0       PHX           Jump Shot       3       SAC   \n",
       "2               C  Yes   52.0       PHX   Cutting Dunk Shot       2       SAC   \n",
       "3              PG  Yes  241.0       PHX    Pullup Jump Shot       2       SAC   \n",
       "4              SG  Yes  225.0       PHX           Jump Shot       3       SAC   \n",
       "\n",
       "   loc_y  time        date         shooter  quarter outcome  \n",
       "0  252.0  0:51  2016-10-26    Jared Dudley        1  SCORED  \n",
       "1   56.0  1:14  2016-10-26    Devin Booker        1  MISSED  \n",
       "2  250.0  1:44  2016-10-26  Tyson Chandler        1  SCORED  \n",
       "3  359.0  2:16  2016-10-26    Eric Bledsoe        1  MISSED  \n",
       "4  447.0  2:40  2016-10-26    Devin Booker        1  MISSED  "
      ]
     },
     "execution_count": 5,
     "metadata": {},
     "output_type": "execute_result"
    }
   ],
=======
   "execution_count": null,
   "metadata": {},
   "outputs": [],
>>>>>>> 4c54a06e92ab0c2cbc7a730c9b23c8b37b9c8303
   "source": [
    "df.head()"
   ]
  },
  {
   "cell_type": "code",
<<<<<<< HEAD
   "execution_count": 6,
=======
   "execution_count": null,
>>>>>>> 4c54a06e92ab0c2cbc7a730c9b23c8b37b9c8303
   "metadata": {},
   "outputs": [],
   "source": [
    "df_home = df[df.home=='Yes']"
   ]
  },
  {
   "cell_type": "code",
<<<<<<< HEAD
   "execution_count": 7,
=======
   "execution_count": null,
>>>>>>> 4c54a06e92ab0c2cbc7a730c9b23c8b37b9c8303
   "metadata": {},
   "outputs": [],
   "source": [
    "df_away = df[df.home=='No']"
   ]
  },
  {
   "cell_type": "code",
<<<<<<< HEAD
   "execution_count": 8,
=======
   "execution_count": null,
>>>>>>> 4c54a06e92ab0c2cbc7a730c9b23c8b37b9c8303
   "metadata": {},
   "outputs": [],
   "source": [
    "mirror_q_away = [1,2]\n",
    "mirror_q_home = [3,4,5,6,7,8]"
   ]
  },
  {
   "cell_type": "code",
<<<<<<< HEAD
   "execution_count": 9,
=======
   "execution_count": null,
>>>>>>> 4c54a06e92ab0c2cbc7a730c9b23c8b37b9c8303
   "metadata": {},
   "outputs": [],
   "source": [
    "middle_x = 470.0\n",
    "middle_y = 250.0"
   ]
  },
  {
   "cell_type": "code",
<<<<<<< HEAD
   "execution_count": 10,
=======
   "execution_count": null,
>>>>>>> 4c54a06e92ab0c2cbc7a730c9b23c8b37b9c8303
   "metadata": {},
   "outputs": [],
   "source": [
    "df_home_mirror = df_home[df_home.quarter.isin(mirror_q_home)]\n",
    "df_home_notmirror = df_home[~df_home.quarter.isin(mirror_q_home)]\n",
    "df_away_mirror = df_away[df_away.quarter.isin(mirror_q_away)]\n",
    "df_away_notmirror = df_away[~df_away.quarter.isin(mirror_q_away)]"
   ]
  },
  {
   "cell_type": "code",
<<<<<<< HEAD
   "execution_count": 11,
   "metadata": {},
   "outputs": [
    {
     "data": {
      "text/plain": [
       "((3501, 13), (1750, 13), (1751, 13), (3416, 13), (1716, 13), (1700, 13))"
      ]
     },
     "execution_count": 11,
     "metadata": {},
     "output_type": "execute_result"
    }
   ],
=======
   "execution_count": null,
   "metadata": {},
   "outputs": [],
>>>>>>> 4c54a06e92ab0c2cbc7a730c9b23c8b37b9c8303
   "source": [
    "df_home.shape, df_home_mirror.shape, df_home_notmirror.shape, df_away.shape, df_away_mirror.shape, df_away_notmirror.shape"
   ]
  },
  {
   "cell_type": "code",
<<<<<<< HEAD
   "execution_count": 12,
=======
   "execution_count": null,
>>>>>>> 4c54a06e92ab0c2cbc7a730c9b23c8b37b9c8303
   "metadata": {},
   "outputs": [],
   "source": [
    "df_home_mirror = df_home_mirror[df_home_mirror.loc_x >= middle_x]\n",
    "df_home_notmirror = df_home_notmirror[df_home_notmirror.loc_x <= middle_x]\n",
    "df_away_mirror = df_away_mirror[df_away_mirror.loc_x >= middle_x]\n",
    "df_away_notmirror = df_away_notmirror[df_away_notmirror.loc_x <= middle_x]"
   ]
  },
  {
   "cell_type": "code",
<<<<<<< HEAD
   "execution_count": 13,
   "metadata": {},
   "outputs": [
    {
     "data": {
      "text/plain": [
       "((3501, 13), (1748, 13), (1747, 13), (3416, 13), (1710, 13), (1695, 13))"
      ]
     },
     "execution_count": 13,
     "metadata": {},
     "output_type": "execute_result"
    }
   ],
=======
   "execution_count": null,
   "metadata": {},
   "outputs": [],
>>>>>>> 4c54a06e92ab0c2cbc7a730c9b23c8b37b9c8303
   "source": [
    "df_home.shape, df_home_mirror.shape, df_home_notmirror.shape, df_away.shape, df_away_mirror.shape, df_away_notmirror.shape"
   ]
  },
  {
   "cell_type": "code",
<<<<<<< HEAD
   "execution_count": 14,
=======
   "execution_count": null,
>>>>>>> 4c54a06e92ab0c2cbc7a730c9b23c8b37b9c8303
   "metadata": {},
   "outputs": [],
   "source": [
    "df_home_mirror['loc_x'] = df_home_mirror['loc_x'].apply(lambda row: row - 2*(row-middle_x))\n",
    "df_home_mirror['loc_y'] = df_home_mirror['loc_y'].apply(lambda row: row - 2*(row-middle_y) if row > 250.0 else row + 2*(middle_y-row))"
   ]
  },
  {
   "cell_type": "code",
<<<<<<< HEAD
   "execution_count": 15,
=======
   "execution_count": null,
>>>>>>> 4c54a06e92ab0c2cbc7a730c9b23c8b37b9c8303
   "metadata": {},
   "outputs": [],
   "source": [
    "df_away_mirror['loc_x'] = df_away_mirror['loc_x'].apply(lambda row: row - 2*(row-middle_x))\n",
    "df_away_mirror['loc_y'] = df_away_mirror['loc_y'].apply(lambda row: row - 2*(row-middle_y) if row > 250.0 else row + 2*(middle_y-row))"
   ]
  },
  {
   "cell_type": "code",
<<<<<<< HEAD
   "execution_count": 16,
   "metadata": {},
   "outputs": [
    {
     "data": {
      "text/plain": [
       "(1748, 13)"
      ]
     },
     "execution_count": 16,
     "metadata": {},
     "output_type": "execute_result"
    }
   ],
=======
   "execution_count": null,
   "metadata": {},
   "outputs": [],
>>>>>>> 4c54a06e92ab0c2cbc7a730c9b23c8b37b9c8303
   "source": [
    "df_home_mirror.shape"
   ]
  },
  {
   "cell_type": "code",
<<<<<<< HEAD
   "execution_count": 17,
=======
   "execution_count": null,
>>>>>>> 4c54a06e92ab0c2cbc7a730c9b23c8b37b9c8303
   "metadata": {},
   "outputs": [],
   "source": [
    "df_home = df_home_notmirror.append(df_home_mirror)\n",
    "df_away = df_away_notmirror.append(df_away_mirror)"
   ]
  },
  {
   "cell_type": "code",
<<<<<<< HEAD
   "execution_count": 18,
   "metadata": {},
   "outputs": [
    {
     "data": {
      "text/plain": [
       "((3495, 13), (3405, 13))"
      ]
     },
     "execution_count": 18,
     "metadata": {},
     "output_type": "execute_result"
    }
   ],
=======
   "execution_count": null,
   "metadata": {},
   "outputs": [],
>>>>>>> 4c54a06e92ab0c2cbc7a730c9b23c8b37b9c8303
   "source": [
    "df_home.shape, df_away.shape"
   ]
  },
  {
   "cell_type": "code",
<<<<<<< HEAD
   "execution_count": 19,
=======
   "execution_count": null,
>>>>>>> 4c54a06e92ab0c2cbc7a730c9b23c8b37b9c8303
   "metadata": {},
   "outputs": [],
   "source": [
    "df = df_home.append(df_away)"
   ]
  },
  {
   "cell_type": "code",
<<<<<<< HEAD
   "execution_count": 20,
   "metadata": {},
   "outputs": [
    {
     "data": {
      "text/plain": [
       "(6900, 13)"
      ]
     },
     "execution_count": 20,
     "metadata": {},
     "output_type": "execute_result"
    }
   ],
=======
   "execution_count": null,
   "metadata": {},
   "outputs": [],
>>>>>>> 4c54a06e92ab0c2cbc7a730c9b23c8b37b9c8303
   "source": [
    "df.shape"
   ]
  },
  {
   "cell_type": "code",
<<<<<<< HEAD
   "execution_count": 21,
=======
   "execution_count": null,
>>>>>>> 4c54a06e92ab0c2cbc7a730c9b23c8b37b9c8303
   "metadata": {},
   "outputs": [],
   "source": [
    "from courts import Rectangle, Circle, Arc\n",
    "\n",
<<<<<<< HEAD
    "def draw_court(ax=None, color='black', lw=2, outer_lines=False):\n",
    "    # If an axes object isn't provided to plot onto, just get current one\n",
    "    if ax is None:\n",
    "        ax = plt.gca()\n",
    "     \n",
    "    backboard1 = Rectangle((50, 225), -1, 50, linewidth=lw, color=color)\n",
    "    backboard2 = Rectangle((895, 225), 1, 50, linewidth=lw, color=color)\n",
    "    \n",
    "    hoop1 = Circle((60, 250), radius=6, linewidth=lw, color=color, fill=False)\n",
    "    hoop2 = Circle((885, 250), radius=6, linewidth=lw, color=color, fill=False)\n",
    "    \n",
    "    restricted1 = Arc((50, 250), 80, 80, angle=270, theta1=0, theta2=180, linewidth=lw,\n",
    "                     color=color)\n",
    "    \n",
    "    restricted2 = Arc((895, 250), 80, 80, angle=270, theta1=180, theta2=0, linewidth=lw,\n",
    "                     color=color)\n",
    "    \n",
    "    freethrow1_outer = Arc((195, 250), 100, 120, angle=270, theta1=0, theta2=180, linewidth=lw,\n",
    "                     color=color)\n",
    "    \n",
    "    freethrow2_outer = Arc((755, 250), 100, 120, angle=270, theta1=180, theta2=0, linewidth=lw,\n",
    "                     color=color)\n",
    "    \n",
    "    freethrow1_inner = Arc((195, 250), 100, 120, angle=270, theta1=180, theta2=0, linewidth=lw,\n",
    "                     color=color, linestyle='dashed')\n",
    "    \n",
    "    freethrow2_inner = Arc((755, 250), 100, 120, angle=270, theta1=0, theta2=180, linewidth=lw,\n",
    "                     color=color, linestyle='dashed')\n",
    "    \n",
    "    threepoint1 = Arc((90, 250), 450, 400, angle=270, theta1=0, theta2=180, linewidth=lw,\n",
    "                     color=color)\n",
    "    \n",
    "    threepoint2 = Arc((850, 250), 450, 400, angle=270, theta1=180, theta2=0, linewidth=lw,\n",
    "                     color=color)    \n",
    "    \n",
    "    innerbox1 = Rectangle((20, 200), 175, 100, linewidth=lw, color=color,\n",
    "                          fill=False)\n",
    "    \n",
    "    innerbox2 = Rectangle((920, 200), -175, 100, linewidth=lw, color=color,\n",
    "                          fill=False)\n",
    "    \n",
    "    outbox1 = Rectangle((20, 190), 175, 120, linewidth=lw, color=color,\n",
    "                          fill=False)\n",
    "    \n",
    "    outbox2 = Rectangle((930, 190), -175, 120, linewidth=lw, color=color,\n",
    "                          fill=False)\n",
    "    \n",
    "    half_court_line = Rectangle((470, 0), 1, 500, linewidth=lw, color=color,\n",
    "                          fill=False)\n",
    "    \n",
    "    half_court_circle  = Circle((470, 250), radius=60, linewidth=lw, color=color, fill=False)\n",
    "    \n",
    "    # List of the court elements to be plotted onto the axes\n",
    "    court_elements = [backboard1, backboard2, hoop1, hoop2, restricted1,\n",
    "                      restricted2, threepoint1, threepoint2, innerbox1,\n",
    "                      innerbox2, freethrow1_outer, freethrow2_outer,\n",
    "                      outbox1, outbox2, freethrow1_inner, freethrow2_inner,\n",
    "                      half_court_line, half_court_circle]\n",
    "    \n",
    "    if outer_lines:\n",
    "    # Draw the half court line, baseline and side out bound lines\n",
    "        outer_lines = Rectangle((20, 0), 910, 500, linewidth=lw,\n",
    "                                color=color, fill=False)\n",
    "        court_elements.append(outer_lines)\n",
    "    \n",
    "      # Add the court elements onto the axes\n",
    "    for element in court_elements:\n",
    "        ax.add_patch(element)\n",
    "    \n",
    "    ax.set_aspect('auto')\n",
    "    ax.set_xlabel('')\n",
    "    ax.set_ylabel('')\n",
    "    ax.tick_params(labelbottom=True, labelleft=True)\n",
    "    ax.legend(loc='upper center', bbox_to_anchor=(0.5, 1.05), ncol=3, fancybox=True, shadow=True)\n",
    "    \n",
    "    return ax"
   ]
  },
  {
   "cell_type": "code",
   "execution_count": 22,
   "metadata": {},
   "outputs": [
    {
     "name": "stderr",
     "output_type": "stream",
     "text": [
      "No handles with labels found to put in legend.\n"
     ]
    },
    {
     "data": {
      "image/png": "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\n",
      "text/plain": [
       "<Figure size 1152x720 with 1 Axes>"
      ]
     },
     "metadata": {
      "needs_background": "light"
     },
     "output_type": "display_data"
    }
   ],
   "source": [
    "plt.figure(figsize=(16,10))\n",
    "draw_court(outer_lines=True)\n",
    "plt.xlim(0,950)\n",
    "plt.ylim(-20,520)\n",
    "plt.scatter(df['loc_x'],df['loc_y'])\n",
    "plt.show()"
   ]
  },
  {
   "cell_type": "code",
   "execution_count": 23,
   "metadata": {},
   "outputs": [],
   "source": [
=======
>>>>>>> 4c54a06e92ab0c2cbc7a730c9b23c8b37b9c8303
    "def draw_half_court(ax=None, color='black', lw=2, outer_lines=False):\n",
    "    # If an axes object isn't provided to plot onto, just get current one\n",
    "    if ax is None:\n",
    "        ax = plt.gca()\n",
    "     \n",
    "    backboard1 = Rectangle((50, 225), -1, 50, linewidth=lw, color=color)\n",
    "    \n",
    "    hoop1 = Circle((55, 250), radius=6, linewidth=lw, color=color, fill=False)\n",
    "    \n",
    "    restricted1 = Arc((50, 250), 80, 80, angle=270, theta1=0, theta2=180, linewidth=lw,\n",
    "                     color=color)\n",
    "    \n",
    "    freethrow1_outer = Arc((195, 250), 100, 120, angle=270, theta1=0, theta2=180, linewidth=lw,\n",
    "                     color=color)\n",
    "    \n",
    "    freethrow1_inner = Arc((195, 250), 100, 120, angle=270, theta1=180, theta2=0, linewidth=lw,\n",
    "                     color=color, linestyle='dashed')\n",
    "    \n",
    "    freethrow1_point = Circle((195, 250), radius=4, linewidth=lw, color=color, fill=True)\n",
    "    \n",
    "    threepoint1 = Arc((90, 250), 450, 400, angle=270, theta1=0, theta2=180, linewidth=lw,\n",
    "                     color=color)\n",
    "    \n",
    "    innerbox1 = Rectangle((20, 200), 175, 100, linewidth=lw, color=color,\n",
    "                          fill=False)\n",
    "    \n",
    "    outbox1 = Rectangle((20, 190), 175, 120, linewidth=lw, color=color,\n",
    "                      fill=False)\n",
    "    \n",
    "    half_court_circle  = Arc((490, 250), 100, 120, angle=270, theta1=180, theta2=0, linewidth=lw,\n",
    "                     color=color)\n",
    "    \n",
    "    half_court_point  = Arc((490, 250), 5, 5, angle=270, theta1=180, theta2=0, linewidth=6,\n",
    "                 color=color)\n",
    "    \n",
    "    lower_three_line = Rectangle((20, 25), 70, 1, linewidth=0.25*lw, color=color,\n",
    "                          fill=True)\n",
    "    \n",
    "    upper_three_line = Rectangle((20, 475), 70, 1, linewidth=0.25*lw, color=color,\n",
    "                      fill=True)\n",
    "    \n",
    "    # List of the court elements to be plotted onto the axes\n",
    "    court_elements = [backboard1, hoop1, restricted1,\n",
    "                       threepoint1, innerbox1, freethrow1_outer,freethrow1_point,\n",
    "                      outbox1, freethrow1_inner,lower_three_line, upper_three_line, half_court_circle, half_court_point]\n",
    "    \n",
    "    if outer_lines:\n",
    "    # Draw the half court line, baseline and side out bound lines\n",
    "        outer_lines = Rectangle((20, 0), 470, 500, linewidth=lw,\n",
    "                                color=color, fill=False)\n",
    "        court_elements.append(outer_lines)\n",
    "    \n",
    "      # Add the court elements onto the axes\n",
    "    for element in court_elements:\n",
    "        ax.add_patch(element)\n",
    "    \n",
    "    ax.set_aspect('auto')\n",
    "    ax.set_xlabel('')\n",
    "    ax.set_ylabel('')\n",
    "    ax.tick_params(labelbottom=True, labelleft=True)\n",
    "#     ax.legend(loc='upper center', bbox_to_anchor=(0.5, 1.05), ncol=3, fancybox=True, shadow=True)\n",
    "    \n",
    "    return ax"
   ]
  },
  {
   "cell_type": "code",
<<<<<<< HEAD
   "execution_count": 24,
   "metadata": {},
   "outputs": [
    {
     "data": {
      "text/html": [
       "<div>\n",
       "<style scoped>\n",
       "    .dataframe tbody tr th:only-of-type {\n",
       "        vertical-align: middle;\n",
       "    }\n",
       "\n",
       "    .dataframe tbody tr th {\n",
       "        vertical-align: top;\n",
       "    }\n",
       "\n",
       "    .dataframe thead th {\n",
       "        text-align: right;\n",
       "    }\n",
       "</style>\n",
       "<table border=\"1\" class=\"dataframe\">\n",
       "  <thead>\n",
       "    <tr style=\"text-align: right;\">\n",
       "      <th></th>\n",
       "      <th>player_position</th>\n",
       "      <th>home</th>\n",
       "      <th>loc_x</th>\n",
       "      <th>home_team</th>\n",
       "      <th>shot_type</th>\n",
       "      <th>points</th>\n",
       "      <th>away_team</th>\n",
       "      <th>loc_y</th>\n",
       "      <th>time</th>\n",
       "      <th>date</th>\n",
       "      <th>shooter</th>\n",
       "      <th>quarter</th>\n",
       "      <th>outcome</th>\n",
       "    </tr>\n",
       "  </thead>\n",
       "  <tbody>\n",
       "    <tr>\n",
       "      <th>0</th>\n",
       "      <td>SF</td>\n",
       "      <td>Yes</td>\n",
       "      <td>97.0</td>\n",
       "      <td>ATL</td>\n",
       "      <td>Pullup Jump Shot</td>\n",
       "      <td>2</td>\n",
       "      <td>WAS</td>\n",
       "      <td>405.0</td>\n",
       "      <td>1:09</td>\n",
       "      <td>2016-10-27</td>\n",
       "      <td>Kent Bazemore</td>\n",
       "      <td>1</td>\n",
       "      <td>MISSED</td>\n",
       "    </tr>\n",
       "    <tr>\n",
       "      <th>1</th>\n",
       "      <td>C</td>\n",
       "      <td>Yes</td>\n",
       "      <td>52.0</td>\n",
       "      <td>ATL</td>\n",
       "      <td>Tip Dunk Shot</td>\n",
       "      <td>2</td>\n",
       "      <td>WAS</td>\n",
       "      <td>250.0</td>\n",
       "      <td>1:11</td>\n",
       "      <td>2016-10-27</td>\n",
       "      <td>Dwight Howard</td>\n",
       "      <td>1</td>\n",
       "      <td>SCORED</td>\n",
       "    </tr>\n",
       "  </tbody>\n",
       "</table>\n",
       "</div>"
      ],
      "text/plain": [
       "  player_position home  loc_x home_team         shot_type  points away_team  \\\n",
       "0              SF  Yes   97.0       ATL  Pullup Jump Shot       2       WAS   \n",
       "1               C  Yes   52.0       ATL     Tip Dunk Shot       2       WAS   \n",
       "\n",
       "   loc_y  time        date        shooter  quarter outcome  \n",
       "0  405.0  1:09  2016-10-27  Kent Bazemore        1  MISSED  \n",
       "1  250.0  1:11  2016-10-27  Dwight Howard        1  SCORED  "
      ]
     },
     "execution_count": 24,
     "metadata": {},
     "output_type": "execute_result"
    }
   ],
=======
   "execution_count": null,
   "metadata": {},
   "outputs": [],
>>>>>>> 4c54a06e92ab0c2cbc7a730c9b23c8b37b9c8303
   "source": [
    "df.head(2)"
   ]
  },
  {
   "cell_type": "code",
<<<<<<< HEAD
   "execution_count": 26,
   "metadata": {},
   "outputs": [
    {
     "name": "stdout",
     "output_type": "stream",
     "text": [
      "<class 'pandas.core.frame.DataFrame'>\n",
      "Int64Index: 6900 entries, 0 to 6881\n",
      "Data columns (total 13 columns):\n",
      "player_position    6900 non-null object\n",
      "home               6900 non-null object\n",
      "loc_x              6900 non-null float64\n",
      "home_team          6900 non-null object\n",
      "shot_type          6900 non-null object\n",
      "points             6900 non-null int64\n",
      "away_team          6900 non-null object\n",
      "loc_y              6900 non-null float64\n",
      "time               6900 non-null object\n",
      "date               6900 non-null object\n",
      "shooter            6900 non-null object\n",
      "quarter            6900 non-null int64\n",
      "outcome            6900 non-null object\n",
      "dtypes: float64(2), int64(2), object(9)\n",
      "memory usage: 754.7+ KB\n"
     ]
    }
   ],
   "source": [
    "df.info()"
   ]
  },
  {
   "cell_type": "code",
   "execution_count": 25,
=======
   "execution_count": null,
>>>>>>> 4c54a06e92ab0c2cbc7a730c9b23c8b37b9c8303
   "metadata": {},
   "outputs": [],
   "source": [
    "plt.figure(figsize=(8,10))\n",
    "draw_half_court(outer_lines=True)\n",
    "sns.scatterplot(x='loc_x',y='loc_y',hue='outcome',data=df)\n",
    "plt.xlim(0,510)\n",
    "plt.ylim(-20,520)\n",
    "plt.legend(loc='center left', bbox_to_anchor=(1, 0.5), ncol=1)\n",
    "plt.show()"
   ]
  },
  {
   "cell_type": "code",
   "execution_count": null,
   "metadata": {},
   "outputs": [],
   "source": [
    "#export_csv = df.to_csv('shots_dataframe.csv', index = None, header=False)"
   ]
  }
 ],
 "metadata": {
  "kernelspec": {
   "display_name": "Python 3",
   "language": "python",
   "name": "python3"
  },
  "language_info": {
   "codemirror_mode": {
    "name": "ipython",
    "version": 3
   },
   "file_extension": ".py",
   "mimetype": "text/x-python",
   "name": "python",
   "nbconvert_exporter": "python",
   "pygments_lexer": "ipython3",
   "version": "3.7.3"
  }
 },
 "nbformat": 4,
 "nbformat_minor": 2
}
