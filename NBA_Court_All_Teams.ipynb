{
 "cells": [
  {
   "cell_type": "code",
   "execution_count": 1,
   "metadata": {},
   "outputs": [],
   "source": [
    "import pandas as pd\n",
    "import numpy as np\n",
    "import matplotlib.pyplot as plt\n",
    "import seaborn as sns"
   ]
  },
  {
   "cell_type": "code",
   "execution_count": 2,
   "metadata": {},
   "outputs": [],
   "source": [
    "df = pd.read_csv('./data/shots/shot log ATL.csv')"
   ]
  },
  {
   "cell_type": "code",
   "execution_count": 3,
   "metadata": {},
   "outputs": [
    {
     "data": {
      "text/html": [
       "<div>\n",
       "<style scoped>\n",
       "    .dataframe tbody tr th:only-of-type {\n",
       "        vertical-align: middle;\n",
       "    }\n",
       "\n",
       "    .dataframe tbody tr th {\n",
       "        vertical-align: top;\n",
       "    }\n",
       "\n",
       "    .dataframe thead th {\n",
       "        text-align: right;\n",
       "    }\n",
       "</style>\n",
       "<table border=\"1\" class=\"dataframe\">\n",
       "  <thead>\n",
       "    <tr style=\"text-align: right;\">\n",
       "      <th></th>\n",
       "      <th>self previous shot</th>\n",
       "      <th>player position</th>\n",
       "      <th>home game</th>\n",
       "      <th>location x</th>\n",
       "      <th>opponent previous shot</th>\n",
       "      <th>home team</th>\n",
       "      <th>shot type</th>\n",
       "      <th>points</th>\n",
       "      <th>away team</th>\n",
       "      <th>location y</th>\n",
       "      <th>time</th>\n",
       "      <th>date</th>\n",
       "      <th>shoot player</th>\n",
       "      <th>time from last shot</th>\n",
       "      <th>quarter</th>\n",
       "      <th>current shot outcome</th>\n",
       "    </tr>\n",
       "  </thead>\n",
       "  <tbody>\n",
       "    <tr>\n",
       "      <th>0</th>\n",
       "      <td>NaN</td>\n",
       "      <td>SF</td>\n",
       "      <td>Yes</td>\n",
       "      <td>97.0</td>\n",
       "      <td>SCORED</td>\n",
       "      <td>ATL</td>\n",
       "      <td>Pullup Jump Shot</td>\n",
       "      <td>2</td>\n",
       "      <td>WAS</td>\n",
       "      <td>405.0</td>\n",
       "      <td>1:09</td>\n",
       "      <td>2016-10-27</td>\n",
       "      <td>Kent Bazemore</td>\n",
       "      <td>NaN</td>\n",
       "      <td>1</td>\n",
       "      <td>MISSED</td>\n",
       "    </tr>\n",
       "    <tr>\n",
       "      <th>1</th>\n",
       "      <td>MISSED</td>\n",
       "      <td>C</td>\n",
       "      <td>Yes</td>\n",
       "      <td>52.0</td>\n",
       "      <td>SCORED</td>\n",
       "      <td>ATL</td>\n",
       "      <td>Tip Dunk Shot</td>\n",
       "      <td>2</td>\n",
       "      <td>WAS</td>\n",
       "      <td>250.0</td>\n",
       "      <td>1:11</td>\n",
       "      <td>2016-10-27</td>\n",
       "      <td>Dwight Howard</td>\n",
       "      <td>2.0</td>\n",
       "      <td>1</td>\n",
       "      <td>SCORED</td>\n",
       "    </tr>\n",
       "    <tr>\n",
       "      <th>2</th>\n",
       "      <td>SCORED</td>\n",
       "      <td>SG</td>\n",
       "      <td>Yes</td>\n",
       "      <td>239.0</td>\n",
       "      <td>MISSED</td>\n",
       "      <td>ATL</td>\n",
       "      <td>Jump Shot</td>\n",
       "      <td>2</td>\n",
       "      <td>WAS</td>\n",
       "      <td>223.0</td>\n",
       "      <td>1:41</td>\n",
       "      <td>2016-10-27</td>\n",
       "      <td>Kyle Korver</td>\n",
       "      <td>30.0</td>\n",
       "      <td>1</td>\n",
       "      <td>SCORED</td>\n",
       "    </tr>\n",
       "    <tr>\n",
       "      <th>3</th>\n",
       "      <td>SCORED</td>\n",
       "      <td>PG</td>\n",
       "      <td>Yes</td>\n",
       "      <td>102.0</td>\n",
       "      <td>SCORED</td>\n",
       "      <td>ATL</td>\n",
       "      <td>Pullup Jump Shot</td>\n",
       "      <td>2</td>\n",
       "      <td>WAS</td>\n",
       "      <td>385.0</td>\n",
       "      <td>2:16</td>\n",
       "      <td>2016-10-27</td>\n",
       "      <td>Dennis Schroder</td>\n",
       "      <td>35.0</td>\n",
       "      <td>1</td>\n",
       "      <td>SCORED</td>\n",
       "    </tr>\n",
       "    <tr>\n",
       "      <th>4</th>\n",
       "      <td>SCORED</td>\n",
       "      <td>PF</td>\n",
       "      <td>Yes</td>\n",
       "      <td>128.0</td>\n",
       "      <td>MISSED</td>\n",
       "      <td>ATL</td>\n",
       "      <td>Turnaround Jump Shot</td>\n",
       "      <td>2</td>\n",
       "      <td>WAS</td>\n",
       "      <td>265.0</td>\n",
       "      <td>2:40</td>\n",
       "      <td>2016-10-27</td>\n",
       "      <td>Paul Millsap</td>\n",
       "      <td>24.0</td>\n",
       "      <td>1</td>\n",
       "      <td>MISSED</td>\n",
       "    </tr>\n",
       "  </tbody>\n",
       "</table>\n",
       "</div>"
      ],
      "text/plain": [
       "  self previous shot player position home game  location x  \\\n",
       "0                NaN              SF       Yes        97.0   \n",
       "1             MISSED               C       Yes        52.0   \n",
       "2             SCORED              SG       Yes       239.0   \n",
       "3             SCORED              PG       Yes       102.0   \n",
       "4             SCORED              PF       Yes       128.0   \n",
       "\n",
       "  opponent previous shot home team             shot type  points away team  \\\n",
       "0                 SCORED       ATL      Pullup Jump Shot       2       WAS   \n",
       "1                 SCORED       ATL         Tip Dunk Shot       2       WAS   \n",
       "2                 MISSED       ATL             Jump Shot       2       WAS   \n",
       "3                 SCORED       ATL      Pullup Jump Shot       2       WAS   \n",
       "4                 MISSED       ATL  Turnaround Jump Shot       2       WAS   \n",
       "\n",
       "   location y  time        date     shoot player  time from last shot  \\\n",
       "0       405.0  1:09  2016-10-27    Kent Bazemore                  NaN   \n",
       "1       250.0  1:11  2016-10-27    Dwight Howard                  2.0   \n",
       "2       223.0  1:41  2016-10-27      Kyle Korver                 30.0   \n",
       "3       385.0  2:16  2016-10-27  Dennis Schroder                 35.0   \n",
       "4       265.0  2:40  2016-10-27     Paul Millsap                 24.0   \n",
       "\n",
       "   quarter current shot outcome  \n",
       "0        1               MISSED  \n",
       "1        1               SCORED  \n",
       "2        1               SCORED  \n",
       "3        1               SCORED  \n",
       "4        1               MISSED  "
      ]
     },
     "execution_count": 3,
     "metadata": {},
     "output_type": "execute_result"
    }
   ],
   "source": [
    "df.head()"
   ]
  },
  {
   "cell_type": "code",
   "execution_count": 4,
   "metadata": {},
   "outputs": [],
   "source": [
    "df = df.drop(['self previous shot', 'opponent previous shot', 'time from last shot'], axis = 1)\n",
    "df = df.rename(columns={'player position':'player_position','shot type':'shot_type','away team': 'away_team','current shot outcome':'outcome', 'home team' : 'home_team', 'location x':'loc_x','location y':'loc_y','shoot player':'shooter','home game':'home'})"
   ]
  },
  {
   "cell_type": "code",
   "execution_count": 5,
   "metadata": {},
   "outputs": [],
   "source": [
    "df = df[df.date == '2016-10-27']"
   ]
  },
  {
   "cell_type": "code",
   "execution_count": 6,
   "metadata": {},
   "outputs": [],
   "source": [
    "from matplotlib.patches import Circle, Rectangle, Arc\n",
    "\n",
    "def draw_court(ax=None, color='black', lw=2, outer_lines=False):\n",
    "    # If an axes object isn't provided to plot onto, just get current one\n",
    "    if ax is None:\n",
    "        ax = plt.gca()\n",
    "     \n",
    "    backboard1 = Rectangle((50, 225), -1, 50, linewidth=lw, color=color)\n",
    "    backboard2 = Rectangle((895, 225), 1, 50, linewidth=lw, color=color)\n",
    "    \n",
    "    hoop1 = Circle((60, 250), radius=6, linewidth=lw, color=color, fill=False)\n",
    "    hoop2 = Circle((885, 250), radius=6, linewidth=lw, color=color, fill=False)\n",
    "    \n",
    "    restricted1 = Arc((50, 250), 80, 80, angle=270, theta1=0, theta2=180, linewidth=lw,\n",
    "                     color=color)\n",
    "    \n",
    "    restricted2 = Arc((895, 250), 80, 80, angle=270, theta1=180, theta2=0, linewidth=lw,\n",
    "                     color=color)\n",
    "    \n",
    "    freethrow1_outer = Arc((195, 250), 100, 120, angle=270, theta1=0, theta2=180, linewidth=lw,\n",
    "                     color=color)\n",
    "    \n",
    "    freethrow2_outer = Arc((755, 250), 100, 120, angle=270, theta1=180, theta2=0, linewidth=lw,\n",
    "                     color=color)\n",
    "    \n",
    "    freethrow1_inner = Arc((195, 250), 100, 120, angle=270, theta1=180, theta2=0, linewidth=lw,\n",
    "                     color=color, linestyle='dashed')\n",
    "    \n",
    "    freethrow2_inner = Arc((755, 250), 100, 120, angle=270, theta1=0, theta2=180, linewidth=lw,\n",
    "                     color=color, linestyle='dashed')\n",
    "    \n",
    "    threepoint1 = Arc((90, 250), 450, 400, angle=270, theta1=0, theta2=180, linewidth=lw,\n",
    "                     color=color)\n",
    "    \n",
    "    threepoint2 = Arc((850, 250), 450, 400, angle=270, theta1=180, theta2=0, linewidth=lw,\n",
    "                     color=color)    \n",
    "    \n",
    "    innerbox1 = Rectangle((20, 200), 175, 100, linewidth=lw, color=color,\n",
    "                          fill=False)\n",
    "    \n",
    "    innerbox2 = Rectangle((920, 200), -175, 100, linewidth=lw, color=color,\n",
    "                          fill=False)\n",
    "    \n",
    "    outbox1 = Rectangle((20, 190), 175, 120, linewidth=lw, color=color,\n",
    "                          fill=False)\n",
    "    \n",
    "    outbox2 = Rectangle((930, 190), -175, 120, linewidth=lw, color=color,\n",
    "                          fill=False)\n",
    "    \n",
    "    half_court_line = Rectangle((470, 0), 1, 500, linewidth=lw, color=color,\n",
    "                          fill=False)\n",
    "    \n",
    "    half_court_circle  = Circle((470, 250), radius=60, linewidth=lw, color=color, fill=False)\n",
    "    \n",
    "    # List of the court elements to be plotted onto the axes\n",
    "    court_elements = [backboard1, backboard2, hoop1, hoop2, restricted1,\n",
    "                      restricted2, threepoint1, threepoint2, innerbox1,\n",
    "                      innerbox2, freethrow1_outer, freethrow2_outer,\n",
    "                      outbox1, outbox2, freethrow1_inner, freethrow2_inner,\n",
    "                      half_court_line, half_court_circle]\n",
    "    \n",
    "    if outer_lines:\n",
    "    # Draw the half court line, baseline and side out bound lines\n",
    "        outer_lines = Rectangle((20, 0), 910, 500, linewidth=lw,\n",
    "                                color=color, fill=False)\n",
    "        court_elements.append(outer_lines)\n",
    "    \n",
    "      # Add the court elements onto the axes\n",
    "    for element in court_elements:\n",
    "        ax.add_patch(element)\n",
    "    \n",
    "    ax.set_aspect('auto')\n",
    "    ax.set_xlabel('')\n",
    "    ax.set_ylabel('')\n",
    "    ax.tick_params(labelbottom=False, labelleft=False)\n",
    "    \n",
    "    return ax"
   ]
  },
  {
   "cell_type": "code",
   "execution_count": 7,
   "metadata": {},
   "outputs": [
    {
     "data": {
      "image/png": "[encoded data removed]",
      "text/plain": [
       "<Figure size 1152x720 with 1 Axes>"
      ]
     },
     "metadata": {},
     "output_type": "display_data"
    }
   ],
   "source": [
    "plt.figure(figsize=(16,10))\n",
    "draw_court(outer_lines=True)\n",
    "plt.xlim(0,950)\n",
    "plt.ylim(-20,520)\n",
    "plt.scatter(df['loc_x'],df['loc_y'])\n",
    "plt.show()"
   ]
  },
  {
   "cell_type": "code",
   "execution_count": null,
   "metadata": {},
   "outputs": [],
   "source": [
    "def draw_half_court(ax=None, color='black', lw=2, outer_lines=False):\n",
    "    # If an axes object isn't provided to plot onto, just get current one\n",
    "    if ax is None:\n",
    "        ax = plt.gca()\n",
    "     \n",
    "    backboard1 = Rectangle((50, 225), -1, 50, linewidth=lw, color=color)\n",
    "    \n",
    "    hoop1 = Circle((55, 250), radius=6, linewidth=lw, color=color, fill=False)\n",
    "    \n",
    "    restricted1 = Arc((50, 250), 80, 80, angle=270, theta1=0, theta2=180, linewidth=lw,\n",
    "                     color=color)\n",
    "    \n",
    "    freethrow1_outer = Arc((195, 250), 100, 120, angle=270, theta1=0, theta2=180, linewidth=lw,\n",
    "                     color=color)\n",
    "    \n",
    "    freethrow1_inner = Arc((195, 250), 100, 120, angle=270, theta1=180, theta2=0, linewidth=lw,\n",
    "                     color=color, linestyle='dashed')\n",
    "    \n",
    "    freethrow1_point = Circle((195, 250), radius=4, linewidth=lw, color=color, fill=True)\n",
    "    \n",
    "    threepoint1 = Arc((90, 250), 450, 400, angle=270, theta1=0, theta2=180, linewidth=lw,\n",
    "                     color=color)\n",
    "    \n",
    "    innerbox1 = Rectangle((20, 200), 175, 100, linewidth=lw, color=color,\n",
    "                          fill=False)\n",
    "    \n",
    "    outbox1 = Rectangle((20, 190), 175, 120, linewidth=lw, color=color,\n",
    "                      fill=False)\n",
    "    \n",
    "    half_court_circle  = Arc((490, 250), 100, 120, angle=270, theta1=180, theta2=0, linewidth=lw,\n",
    "                     color=color)\n",
    "    \n",
    "    half_court_point  = Arc((490, 250), 5, 5, angle=270, theta1=180, theta2=0, linewidth=6,\n",
    "                 color=color)\n",
    "    \n",
    "    lower_three_line = Rectangle((20, 25), 70, 1, linewidth=0.5*lw, color=color,\n",
    "                          fill=False)\n",
    "    \n",
    "    upper_three_line = Rectangle((20, 475), 70, 1, linewidth=0.5*lw, color=color,\n",
    "                      fill=False)\n",
    "    \n",
    "    # List of the court elements to be plotted onto the axes\n",
    "    court_elements = [backboard1, hoop1, restricted1,\n",
    "                       threepoint1, innerbox1, freethrow1_outer,freethrow1_point,\n",
    "                      outbox1, freethrow1_inner,lower_three_line, upper_three_line, half_court_circle, half_court_point]\n",
    "    \n",
    "    if outer_lines:\n",
    "    # Draw the half court line, baseline and side out bound lines\n",
    "        outer_lines = Rectangle((20, 0), 470, 500, linewidth=lw,\n",
    "                                color=color, fill=False)\n",
    "        court_elements.append(outer_lines)\n",
    "    \n",
    "      # Add the court elements onto the axes\n",
    "    for element in court_elements:\n",
    "        ax.add_patch(element)\n",
    "    \n",
    "    ax.set_aspect('auto')\n",
    "    ax.set_xlabel('')\n",
    "    ax.set_ylabel('')\n",
    "    ax.tick_params(labelbottom=False, labelleft=False)\n",
    "    \n",
    "    return ax"
   ]
  },
  {
   "cell_type": "code",
   "execution_count": null,
   "metadata": {},
   "outputs": [],
   "source": []
  },
  {
   "cell_type": "code",
   "execution_count": null,
   "metadata": {},
   "outputs": [],
   "source": [
    "middle_x = 470.0\n",
    "middle_y = 250.0"
   ]
  },
  {
   "cell_type": "code",
   "execution_count": null,
   "metadata": {},
   "outputs": [],
   "source": [
    "df12 = df.loc[df['quarter'].isin(some_values)]"
   ]
  },
  {
   "cell_type": "code",
   "execution_count": null,
   "metadata": {},
   "outputs": [],
   "source": []
  },
  {
   "cell_type": "code",
   "execution_count": null,
   "metadata": {},
   "outputs": [],
   "source": []
  },
  {
   "cell_type": "code",
   "execution_count": null,
   "metadata": {},
   "outputs": [],
   "source": [
    "#df.loc[df.quarter == 4, 'loc_x'] = df['loc_x'] - 2*(df['loc_x']-middle_x)\n",
    "#df.loc[df.quarter ==3, 'loc_x'] = df['loc_x'] - 2*(df['loc_x']-middle_x)\n",
    "df.loc[df.quarter == 4, 'loc_y'] = np.where(df['loc_y']<=250, df['loc_y'] + 2 * np.abs((df['loc_y'] - middle_y)),df['loc_y'] - 2 * np.abs((df['loc_y'] - middle_y)))\n",
    "df.loc[df.quarter ==3, 'loc_y'] = np.where(df['loc_y']<=250, df['loc_y'] + 2 * np.abs((df['loc_y'] - middle_y)),df['loc_y'] - 2 * np.abs((df['loc_y'] - middle_y)))"
   ]
  },
  {
   "cell_type": "code",
   "execution_count": null,
   "metadata": {},
   "outputs": [],
   "source": [
    "df"
   ]
  },
  {
   "cell_type": "code",
   "execution_count": null,
   "metadata": {},
   "outputs": [],
   "source": [
    "df3['loc_x_mirror'] = df3['loc_x'] - 2 * np.abs((df3['loc_x'] - middle_x))"
   ]
  },
  {
   "cell_type": "code",
   "execution_count": null,
   "metadata": {},
   "outputs": [],
   "source": [
    "df3.head()"
   ]
  },
  {
   "cell_type": "code",
   "execution_count": null,
   "metadata": {},
   "outputs": [],
   "source": [
    "df3['loc_y_mirror'] = np.where(df3['loc_y']<=250,df3['loc_y'] + 2 * np.abs((df3['loc_y'] - middle_y)),df3['loc_y'] - 2 * np.abs((df3['loc_y'] - middle_y)))"
   ]
  },
  {
   "cell_type": "code",
   "execution_count": null,
   "metadata": {},
   "outputs": [],
   "source": [
    "df3.head()"
   ]
  },
  {
   "cell_type": "code",
   "execution_count": null,
   "metadata": {},
   "outputs": [],
   "source": [
    "df3.info()"
   ]
  },
  {
   "cell_type": "code",
   "execution_count": null,
   "metadata": {},
   "outputs": [],
   "source": [
    "def mirror(df):\n",
    "    if df['quarter'] == 3:\n",
    "        df['loc_x'] = df['loc_x'] - 2 * np.abs((df['loc_x'] - middle_x))\n",
    "        df['loc_y'] = np.where(df['loc_y']<=250,df['loc_y'] + 2 * np.abs((df['loc_y'] - middle_y)),df['loc_y'] - 2 * np.abs((df['loc_y'] - middle_y)))\n",
    "    elif df['quarter'] == 4:\n",
    "        df['loc_x'] = df['loc_x'] - 2 * np.abs((df['loc_x'] - middle_x))\n",
    "        df['loc_y'] = np.where(df['loc_y']<=250,df['loc_y'] + 2 * np.abs((df['loc_y'] - middle_y)),df['loc_y'] - 2 * np.abs((df['loc_y'] - middle_y)))\n",
    "\n",
    "    return df"
   ]
  },
  {
   "cell_type": "code",
   "execution_count": null,
   "metadata": {},
   "outputs": [],
   "source": [
    "mirror_quarter = [3,4]"
   ]
  },
  {
   "cell_type": "code",
   "execution_count": null,
   "metadata": {},
   "outputs": [],
   "source": [
    "plt.figure(figsize=(8,10))\n",
    "draw_half_court(outer_lines=True)\n",
    "plt.scatter(df3['loc_x'],df3['loc_y'])\n",
    "plt.xlim(0,510)\n",
    "plt.ylim(-20,520)\n",
    "plt.scatter(df3['loc_x_mirror'],df3['loc_y_mirror'])\n",
    "plt.show()"
   ]
  }
 ],
 "metadata": {
  "kernelspec": {
   "display_name": "Python 3",
   "language": "python",
   "name": "python3"
  },
  "language_info": {
   "codemirror_mode": {
    "name": "ipython",
    "version": 3
   },
   "file_extension": ".py",
   "mimetype": "text/x-python",
   "name": "python",
   "nbconvert_exporter": "python",
   "pygments_lexer": "ipython3",
   "version": "3.7.3"
  }
 },
 "nbformat": 4,
 "nbformat_minor": 2
}
