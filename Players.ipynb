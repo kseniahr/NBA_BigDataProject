{
 "cells": [
  {
   "cell_type": "code",
   "execution_count": 1,
   "metadata": {},
   "outputs": [],
   "source": [
    "import glob\n",
    "import os\n",
    "import pandas as pd\n",
    "os.chdir(\"data/shots\")"
   ]
  },
  {
   "cell_type": "code",
   "execution_count": 2,
   "metadata": {},
   "outputs": [
    {
     "name": "stdout",
     "output_type": "stream",
     "text": [
      "['shot log ATL.csv', 'shot log BOS.csv', 'shot log BRO.csv', 'shot log CHA.csv', 'shot log CHI.csv', 'shot log CLE.csv', 'shot log DAL.csv', 'shot log DEN.csv', 'shot log DET.csv', 'shot log GSW.csv', 'shot log HOU.csv', 'shot log IND.csv', 'shot log LAC.csv', 'shot log LAL.csv', 'shot log MEM.csv', 'shot log MIA.csv', 'shot log MIL.csv', 'shot log MIN.csv', 'shot log NOP.csv', 'shot log NYK.csv', 'shot log OKL.csv', 'shot log ORL.csv', 'shot log PHI.csv', 'shot log PHX.csv', 'shot log POR.csv', 'shot log SAC.csv', 'shot log SAS.csv', 'shot log TOR.csv', 'shot log UTA.csv', 'shot log WAS.csv']\n"
     ]
    }
   ],
   "source": [
    "extension = 'csv'\n",
    "all_filenames = [i for i in glob.glob('*.{}'.format(extension))]\n",
    "print(all_filenames)"
   ]
  },
  {
   "cell_type": "code",
   "execution_count": 3,
   "metadata": {},
   "outputs": [],
   "source": [
    "#combine all files in the list\n",
    "combined_csv = pd.concat([pd.read_csv(f) for f in all_filenames ])\n",
    "#export to csv\n",
    "combined_csv.to_csv( \"combined_csv.csv\", index=False, encoding='utf-8-sig')"
   ]
  },
  {
   "cell_type": "code",
   "execution_count": 4,
   "metadata": {},
   "outputs": [],
   "source": [
    "df = pd.DataFrame(combined_csv)"
   ]
  },
  {
   "cell_type": "code",
   "execution_count": 5,
   "metadata": {},
   "outputs": [
    {
     "data": {
      "text/plain": [
       "(210072, 16)"
      ]
     },
     "execution_count": 5,
     "metadata": {},
     "output_type": "execute_result"
    }
   ],
   "source": [
    "df.shape"
   ]
  },
  {
   "cell_type": "code",
   "execution_count": 6,
   "metadata": {},
   "outputs": [
    {
     "data": {
      "text/plain": [
       "Index(['self previous shot', 'player position', 'home game', 'location x',\n",
       "       'opponent previous shot', 'home team', 'shot type', 'points',\n",
       "       'away team', 'location y', 'time', 'date', 'shoot player',\n",
       "       'time from last shot', 'quarter', 'current shot outcome'],\n",
       "      dtype='object')"
      ]
     },
     "execution_count": 6,
     "metadata": {},
     "output_type": "execute_result"
    }
   ],
   "source": [
    "df.columns"
   ]
  },
  {
   "cell_type": "code",
   "execution_count": 7,
   "metadata": {},
   "outputs": [],
   "source": [
    "df = df.rename(columns={'player position':'player_position','shot type':'shot_type','away team': 'away_team','current shot outcome':'outcome', 'home team' : 'home_team', 'location x':'loc_x','location y':'loc_y','shoot player':'shooter','home game':'home'})"
   ]
  },
  {
   "cell_type": "code",
   "execution_count": 8,
   "metadata": {},
   "outputs": [],
   "source": [
    "df['outcome'] = df.outcome.replace('BLOCKED',0)\n",
    "df['outcome'] = df.outcome.replace('MISSED',0)\n",
    "df['outcome'] = df.outcome.replace('SCORED',1)\n"
   ]
  },
  {
   "cell_type": "code",
   "execution_count": 9,
   "metadata": {},
   "outputs": [
    {
     "data": {
      "text/html": [
       "<div>\n",
       "<style scoped>\n",
       "    .dataframe tbody tr th:only-of-type {\n",
       "        vertical-align: middle;\n",
       "    }\n",
       "\n",
       "    .dataframe tbody tr th {\n",
       "        vertical-align: top;\n",
       "    }\n",
       "\n",
       "    .dataframe thead th {\n",
       "        text-align: right;\n",
       "    }\n",
       "</style>\n",
       "<table border=\"1\" class=\"dataframe\">\n",
       "  <thead>\n",
       "    <tr style=\"text-align: right;\">\n",
       "      <th></th>\n",
       "      <th>shooter</th>\n",
       "      <th>outcome</th>\n",
       "    </tr>\n",
       "  </thead>\n",
       "  <tbody>\n",
       "    <tr>\n",
       "      <th>0</th>\n",
       "      <td>Kent Bazemore</td>\n",
       "      <td>0</td>\n",
       "    </tr>\n",
       "    <tr>\n",
       "      <th>1</th>\n",
       "      <td>Dwight Howard</td>\n",
       "      <td>1</td>\n",
       "    </tr>\n",
       "    <tr>\n",
       "      <th>2</th>\n",
       "      <td>Kyle Korver</td>\n",
       "      <td>1</td>\n",
       "    </tr>\n",
       "    <tr>\n",
       "      <th>3</th>\n",
       "      <td>Dennis Schroder</td>\n",
       "      <td>1</td>\n",
       "    </tr>\n",
       "    <tr>\n",
       "      <th>4</th>\n",
       "      <td>Paul Millsap</td>\n",
       "      <td>0</td>\n",
       "    </tr>\n",
       "  </tbody>\n",
       "</table>\n",
       "</div>"
      ],
      "text/plain": [
       "           shooter  outcome\n",
       "0    Kent Bazemore        0\n",
       "1    Dwight Howard        1\n",
       "2      Kyle Korver        1\n",
       "3  Dennis Schroder        1\n",
       "4     Paul Millsap        0"
      ]
     },
     "execution_count": 9,
     "metadata": {},
     "output_type": "execute_result"
    }
   ],
   "source": [
    "players = df[['shooter', 'outcome']]\n",
    "players.head()"
   ]
  },
  {
   "cell_type": "code",
   "execution_count": 10,
   "metadata": {},
   "outputs": [],
   "source": [
    "total_hits = players.groupby(['shooter']).count()\n",
    "scored_hits = players.groupby(['shooter']).sum()\n",
    "df_players = pd.merge(scored_hits, total_hits, on='shooter')\n",
    "avg = pd.DataFrame(df_players['outcome_x']/df_players['outcome_y'])\n",
    "df_players = pd.merge(df_players, avg, on = 'shooter')\n",
    "df_players = df_players.rename(columns={'outcome_x':'scored', 'outcome_y':'total', 0 : 'avg'})"
   ]
  },
  {
   "cell_type": "code",
   "execution_count": 11,
   "metadata": {},
   "outputs": [
    {
     "data": {
      "text/html": [
       "<div>\n",
       "<style scoped>\n",
       "    .dataframe tbody tr th:only-of-type {\n",
       "        vertical-align: middle;\n",
       "    }\n",
       "\n",
       "    .dataframe tbody tr th {\n",
       "        vertical-align: top;\n",
       "    }\n",
       "\n",
       "    .dataframe thead th {\n",
       "        text-align: right;\n",
       "    }\n",
       "</style>\n",
       "<table border=\"1\" class=\"dataframe\">\n",
       "  <thead>\n",
       "    <tr style=\"text-align: right;\">\n",
       "      <th></th>\n",
       "      <th>scored</th>\n",
       "      <th>total</th>\n",
       "      <th>avg</th>\n",
       "    </tr>\n",
       "    <tr>\n",
       "      <th>shooter</th>\n",
       "      <th></th>\n",
       "      <th></th>\n",
       "      <th></th>\n",
       "    </tr>\n",
       "  </thead>\n",
       "  <tbody>\n",
       "    <tr>\n",
       "      <th>A.J. Hammons</th>\n",
       "      <td>17</td>\n",
       "      <td>42</td>\n",
       "      <td>0.404762</td>\n",
       "    </tr>\n",
       "    <tr>\n",
       "      <th>Aaron Brooks</th>\n",
       "      <td>121</td>\n",
       "      <td>300</td>\n",
       "      <td>0.403333</td>\n",
       "    </tr>\n",
       "    <tr>\n",
       "      <th>Aaron Gordon</th>\n",
       "      <td>393</td>\n",
       "      <td>864</td>\n",
       "      <td>0.454861</td>\n",
       "    </tr>\n",
       "    <tr>\n",
       "      <th>Aaron Harrison</th>\n",
       "      <td>0</td>\n",
       "      <td>4</td>\n",
       "      <td>0.000000</td>\n",
       "    </tr>\n",
       "    <tr>\n",
       "      <th>Adreian Payne</th>\n",
       "      <td>23</td>\n",
       "      <td>54</td>\n",
       "      <td>0.425926</td>\n",
       "    </tr>\n",
       "  </tbody>\n",
       "</table>\n",
       "</div>"
      ],
      "text/plain": [
       "                scored  total       avg\n",
       "shooter                                \n",
       "A.J. Hammons        17     42  0.404762\n",
       "Aaron Brooks       121    300  0.403333\n",
       "Aaron Gordon       393    864  0.454861\n",
       "Aaron Harrison       0      4  0.000000\n",
       "Adreian Payne       23     54  0.425926"
      ]
     },
     "execution_count": 11,
     "metadata": {},
     "output_type": "execute_result"
    }
   ],
   "source": [
    "df_players.head()"
   ]
  },
  {
   "cell_type": "code",
   "execution_count": 12,
   "metadata": {},
   "outputs": [
    {
     "data": {
      "text/plain": [
       "count     485.000000\n",
       "mean      433.138144\n",
       "std       371.660146\n",
       "min         1.000000\n",
       "25%       120.000000\n",
       "50%       362.000000\n",
       "75%       633.000000\n",
       "max      1940.000000\n",
       "Name: total, dtype: float64"
      ]
     },
     "execution_count": 12,
     "metadata": {},
     "output_type": "execute_result"
    }
   ],
   "source": [
    "df_players.total.describe()"
   ]
  },
  {
   "cell_type": "code",
   "execution_count": 13,
   "metadata": {},
   "outputs": [
    {
     "data": {
      "image/png": "[encoded data removed]",
      "text/plain": [
       "<Figure size 432x288 with 1 Axes>"
      ]
     },
     "metadata": {
      "needs_background": "light"
     },
     "output_type": "display_data"
    }
   ],
   "source": [
    "# import the pyplot module from matplotlib\n",
    "import matplotlib.pyplot as plt\n",
    "\n",
    "# matplotlib plots inline  \n",
    "%matplotlib inline\n",
    "\n",
    "# Plotting distribution of wins\n",
    "plt.hist(df_players['avg'], bins = 40)\n",
    "plt.xlabel('count')\n",
    "plt.title('average')\n",
    "\n",
    "plt.show()"
   ]
  },
  {
   "cell_type": "code",
   "execution_count": 14,
   "metadata": {},
   "outputs": [
    {
     "data": {
      "text/plain": [
       "count    485.000000\n",
       "mean       0.441730\n",
       "std        0.099025\n",
       "min        0.000000\n",
       "25%        0.399168\n",
       "50%        0.442387\n",
       "75%        0.484756\n",
       "max        1.000000\n",
       "Name: avg, dtype: float64"
      ]
     },
     "execution_count": 14,
     "metadata": {},
     "output_type": "execute_result"
    }
   ],
   "source": [
    "df_players['avg'].describe()"
   ]
  },
  {
   "cell_type": "code",
   "execution_count": 15,
   "metadata": {},
   "outputs": [],
   "source": [
    "df_players = df_players[df_players['avg']>0]\n",
    "df_players = df_players[df_players['avg']<1]"
   ]
  },
  {
   "cell_type": "code",
   "execution_count": 16,
   "metadata": {},
   "outputs": [
    {
     "data": {
      "text/plain": [
       "(13.999333617664394, 17.45959631432189)"
      ]
     },
     "execution_count": 16,
     "metadata": {},
     "output_type": "execute_result"
    }
   ],
   "source": [
    "from scipy.stats import beta\n",
    "data = list(df_players['avg'])\n",
    "a1, b1, loc1, scale1 = beta.fit(data, floc=0, fscale=1)\n",
    "a1, b1"
   ]
  },
  {
   "cell_type": "code",
   "execution_count": 17,
   "metadata": {},
   "outputs": [],
   "source": [
    "posterior_avg = pd.DataFrame((df_players['scored'] + a1) / (df_players['total'] + a1 + b1), columns=['poster_avg'])"
   ]
  },
  {
   "cell_type": "code",
   "execution_count": 18,
   "metadata": {},
   "outputs": [
    {
     "data": {
      "text/html": [
       "<div>\n",
       "<style scoped>\n",
       "    .dataframe tbody tr th:only-of-type {\n",
       "        vertical-align: middle;\n",
       "    }\n",
       "\n",
       "    .dataframe tbody tr th {\n",
       "        vertical-align: top;\n",
       "    }\n",
       "\n",
       "    .dataframe thead th {\n",
       "        text-align: right;\n",
       "    }\n",
       "</style>\n",
       "<table border=\"1\" class=\"dataframe\">\n",
       "  <thead>\n",
       "    <tr style=\"text-align: right;\">\n",
       "      <th></th>\n",
       "      <th>scored</th>\n",
       "      <th>total</th>\n",
       "      <th>avg</th>\n",
       "      <th>poster_avg</th>\n",
       "    </tr>\n",
       "    <tr>\n",
       "      <th>shooter</th>\n",
       "      <th></th>\n",
       "      <th></th>\n",
       "      <th></th>\n",
       "      <th></th>\n",
       "    </tr>\n",
       "  </thead>\n",
       "  <tbody>\n",
       "    <tr>\n",
       "      <th>A.J. Hammons</th>\n",
       "      <td>17</td>\n",
       "      <td>42</td>\n",
       "      <td>0.404762</td>\n",
       "      <td>0.421995</td>\n",
       "    </tr>\n",
       "    <tr>\n",
       "      <th>Aaron Brooks</th>\n",
       "      <td>121</td>\n",
       "      <td>300</td>\n",
       "      <td>0.403333</td>\n",
       "      <td>0.407288</td>\n",
       "    </tr>\n",
       "    <tr>\n",
       "      <th>Aaron Gordon</th>\n",
       "      <td>393</td>\n",
       "      <td>864</td>\n",
       "      <td>0.454861</td>\n",
       "      <td>0.454515</td>\n",
       "    </tr>\n",
       "    <tr>\n",
       "      <th>Adreian Payne</th>\n",
       "      <td>23</td>\n",
       "      <td>54</td>\n",
       "      <td>0.425926</td>\n",
       "      <td>0.432949</td>\n",
       "    </tr>\n",
       "    <tr>\n",
       "      <th>Al Horford</th>\n",
       "      <td>379</td>\n",
       "      <td>801</td>\n",
       "      <td>0.473159</td>\n",
       "      <td>0.472095</td>\n",
       "    </tr>\n",
       "  </tbody>\n",
       "</table>\n",
       "</div>"
      ],
      "text/plain": [
       "               scored  total       avg  poster_avg\n",
       "shooter                                           \n",
       "A.J. Hammons       17     42  0.404762    0.421995\n",
       "Aaron Brooks      121    300  0.403333    0.407288\n",
       "Aaron Gordon      393    864  0.454861    0.454515\n",
       "Adreian Payne      23     54  0.425926    0.432949\n",
       "Al Horford        379    801  0.473159    0.472095"
      ]
     },
     "execution_count": 18,
     "metadata": {},
     "output_type": "execute_result"
    }
   ],
   "source": [
    "df_players = pd.merge(df_players, posterior_avg,  on = 'shooter')\n",
    "df_players.rename(columns={0 :'posterior_avg'})\n",
    "df_players.head()"
   ]
  },
  {
   "cell_type": "code",
   "execution_count": null,
   "metadata": {},
   "outputs": [],
   "source": []
  },
  {
   "cell_type": "code",
   "execution_count": 24,
   "metadata": {},
   "outputs": [],
   "source": [
    "export_csv = df_players.to_csv('players_dataframe.csv', header=False)"
   ]
  },
  {
   "cell_type": "markdown",
   "metadata": {},
   "source": [
    "Now, this table is placed on hdfs(/user/oksana_hrytsiv/nba_shots)"
   ]
  }
 ],
 "metadata": {
  "kernelspec": {
   "display_name": "Python 3",
   "language": "python",
   "name": "python3"
  },
  "language_info": {
   "codemirror_mode": {
    "name": "ipython",
    "version": 3
   },
   "file_extension": ".py",
   "mimetype": "text/x-python",
   "name": "python",
   "nbconvert_exporter": "python",
   "pygments_lexer": "ipython3",
   "version": "3.7.0"
  }
 },
 "nbformat": 4,
 "nbformat_minor": 2
}
