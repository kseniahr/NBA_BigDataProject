{
 "cells": [
  {
   "cell_type": "markdown",
   "metadata": {},
   "source": [
    "## Import Packages "
   ]
  },
  {
   "cell_type": "code",
   "execution_count": 20,
   "metadata": {},
   "outputs": [],
   "source": [
    "import pandas as pd\n",
    "import numpy as np\n",
    "import matplotlib.pyplot as plt\n",
    "import seaborn as sns\n",
    "import glob\n",
    "import os\n",
    "# os.chdir(\"data/shots\")"
   ]
  },
  {
   "cell_type": "markdown",
   "metadata": {},
   "source": [
    "## Data Preprocessing "
   ]
  },
  {
   "cell_type": "markdown",
   "metadata": {},
   "source": [
    "Firstly, we combine all datasets of all teams in one BIG dataframe:"
   ]
  },
  {
   "cell_type": "code",
   "execution_count": 29,
   "metadata": {},
   "outputs": [
    {
     "name": "stdout",
     "output_type": "stream",
     "text": [
      "['shot log ATL.csv', 'shot log BOS.csv', 'shot log BRO.csv', 'shot log CHA.csv', 'shot log CHI.csv', 'shot log CLE.csv', 'shot log DAL.csv', 'shot log DEN.csv', 'shot log DET.csv', 'shot log GSW.csv', 'shot log HOU.csv', 'shot log IND.csv', 'shot log LAC.csv', 'shot log LAL.csv', 'shot log MEM.csv', 'shot log MIA.csv', 'shot log MIL.csv', 'shot log MIN.csv', 'shot log NOP.csv', 'shot log NYK.csv', 'shot log OKL.csv', 'shot log ORL.csv', 'shot log PHI.csv', 'shot log PHX.csv', 'shot log POR.csv', 'shot log SAC.csv', 'shot log SAS.csv', 'shot log TOR.csv', 'shot log UTA.csv', 'shot log WAS.csv']\n"
     ]
    }
   ],
   "source": [
    "extension = 'csv'\n",
    "all_filenames = [i for i in glob.glob('*.{}'.format(extension))]\n",
    "print(all_filenames)"
   ]
  },
  {
   "cell_type": "markdown",
   "metadata": {},
   "source": [
    "(The cell below is to be executed only once. Number of rows has to be 210072)"
   ]
  },
  {
   "cell_type": "code",
   "execution_count": 30,
   "metadata": {},
   "outputs": [
    {
     "name": "stderr",
     "output_type": "stream",
     "text": [
      "C:\\ProgramData\\Anaconda3\\lib\\site-packages\\ipykernel_launcher.py:2: FutureWarning: Sorting because non-concatenation axis is not aligned. A future version\n",
      "of pandas will change to not sort by default.\n",
      "\n",
      "To accept the future behavior, pass 'sort=False'.\n",
      "\n",
      "To retain the current behavior and silence the warning, pass 'sort=True'.\n",
      "\n",
      "  \n"
     ]
    }
   ],
   "source": [
    "#combine all files in the list\n",
    "combined_csv = pd.concat([pd.read_csv(f) for f in all_filenames ])\n",
    "#export to csv\n",
    "combined_csv.to_csv(\"combined_csv.csv\", index=False, encoding='utf-8-sig')"
   ]
  },
  {
   "cell_type": "code",
   "execution_count": 31,
   "metadata": {},
   "outputs": [],
   "source": [
    "df = pd.DataFrame(combined_csv)"
   ]
  },
  {
   "cell_type": "code",
   "execution_count": 32,
   "metadata": {},
   "outputs": [
    {
     "data": {
      "text/plain": [
       "(210072, 17)"
      ]
     },
     "execution_count": 32,
     "metadata": {},
     "output_type": "execute_result"
    }
   ],
   "source": [
    "df.shape"
   ]
  },
  {
   "cell_type": "code",
   "execution_count": 33,
   "metadata": {},
   "outputs": [
    {
     "data": {
      "text/html": [
       "<div>\n",
       "<style scoped>\n",
       "    .dataframe tbody tr th:only-of-type {\n",
       "        vertical-align: middle;\n",
       "    }\n",
       "\n",
       "    .dataframe tbody tr th {\n",
       "        vertical-align: top;\n",
       "    }\n",
       "\n",
       "    .dataframe thead th {\n",
       "        text-align: right;\n",
       "    }\n",
       "</style>\n",
       "<table border=\"1\" class=\"dataframe\">\n",
       "  <thead>\n",
       "    <tr style=\"text-align: right;\">\n",
       "      <th></th>\n",
       "      <th>Unnamed: 0</th>\n",
       "      <th>away team</th>\n",
       "      <th>current shot outcome</th>\n",
       "      <th>date</th>\n",
       "      <th>home game</th>\n",
       "      <th>home team</th>\n",
       "      <th>location x</th>\n",
       "      <th>location y</th>\n",
       "      <th>opponent previous shot</th>\n",
       "      <th>player position</th>\n",
       "      <th>points</th>\n",
       "      <th>quarter</th>\n",
       "      <th>self previous shot</th>\n",
       "      <th>shoot player</th>\n",
       "      <th>shot type</th>\n",
       "      <th>time</th>\n",
       "      <th>time from last shot</th>\n",
       "    </tr>\n",
       "  </thead>\n",
       "  <tbody>\n",
       "    <tr>\n",
       "      <th>0</th>\n",
       "      <td>NaN</td>\n",
       "      <td>WAS</td>\n",
       "      <td>MISSED</td>\n",
       "      <td>2016-10-27</td>\n",
       "      <td>Yes</td>\n",
       "      <td>ATL</td>\n",
       "      <td>97.0</td>\n",
       "      <td>405.0</td>\n",
       "      <td>SCORED</td>\n",
       "      <td>SF</td>\n",
       "      <td>2</td>\n",
       "      <td>1</td>\n",
       "      <td>NaN</td>\n",
       "      <td>Kent Bazemore</td>\n",
       "      <td>Pullup Jump Shot</td>\n",
       "      <td>1:09</td>\n",
       "      <td>NaN</td>\n",
       "    </tr>\n",
       "    <tr>\n",
       "      <th>1</th>\n",
       "      <td>NaN</td>\n",
       "      <td>WAS</td>\n",
       "      <td>SCORED</td>\n",
       "      <td>2016-10-27</td>\n",
       "      <td>Yes</td>\n",
       "      <td>ATL</td>\n",
       "      <td>52.0</td>\n",
       "      <td>250.0</td>\n",
       "      <td>SCORED</td>\n",
       "      <td>C</td>\n",
       "      <td>2</td>\n",
       "      <td>1</td>\n",
       "      <td>MISSED</td>\n",
       "      <td>Dwight Howard</td>\n",
       "      <td>Tip Dunk Shot</td>\n",
       "      <td>1:11</td>\n",
       "      <td>2.0</td>\n",
       "    </tr>\n",
       "    <tr>\n",
       "      <th>2</th>\n",
       "      <td>NaN</td>\n",
       "      <td>WAS</td>\n",
       "      <td>SCORED</td>\n",
       "      <td>2016-10-27</td>\n",
       "      <td>Yes</td>\n",
       "      <td>ATL</td>\n",
       "      <td>239.0</td>\n",
       "      <td>223.0</td>\n",
       "      <td>MISSED</td>\n",
       "      <td>SG</td>\n",
       "      <td>2</td>\n",
       "      <td>1</td>\n",
       "      <td>SCORED</td>\n",
       "      <td>Kyle Korver</td>\n",
       "      <td>Jump Shot</td>\n",
       "      <td>1:41</td>\n",
       "      <td>30.0</td>\n",
       "    </tr>\n",
       "    <tr>\n",
       "      <th>3</th>\n",
       "      <td>NaN</td>\n",
       "      <td>WAS</td>\n",
       "      <td>SCORED</td>\n",
       "      <td>2016-10-27</td>\n",
       "      <td>Yes</td>\n",
       "      <td>ATL</td>\n",
       "      <td>102.0</td>\n",
       "      <td>385.0</td>\n",
       "      <td>SCORED</td>\n",
       "      <td>PG</td>\n",
       "      <td>2</td>\n",
       "      <td>1</td>\n",
       "      <td>SCORED</td>\n",
       "      <td>Dennis Schroder</td>\n",
       "      <td>Pullup Jump Shot</td>\n",
       "      <td>2:16</td>\n",
       "      <td>35.0</td>\n",
       "    </tr>\n",
       "    <tr>\n",
       "      <th>4</th>\n",
       "      <td>NaN</td>\n",
       "      <td>WAS</td>\n",
       "      <td>MISSED</td>\n",
       "      <td>2016-10-27</td>\n",
       "      <td>Yes</td>\n",
       "      <td>ATL</td>\n",
       "      <td>128.0</td>\n",
       "      <td>265.0</td>\n",
       "      <td>MISSED</td>\n",
       "      <td>PF</td>\n",
       "      <td>2</td>\n",
       "      <td>1</td>\n",
       "      <td>SCORED</td>\n",
       "      <td>Paul Millsap</td>\n",
       "      <td>Turnaround Jump Shot</td>\n",
       "      <td>2:40</td>\n",
       "      <td>24.0</td>\n",
       "    </tr>\n",
       "  </tbody>\n",
       "</table>\n",
       "</div>"
      ],
      "text/plain": [
       "   Unnamed: 0 away team current shot outcome        date home game home team  \\\n",
       "0         NaN       WAS               MISSED  2016-10-27       Yes       ATL   \n",
       "1         NaN       WAS               SCORED  2016-10-27       Yes       ATL   \n",
       "2         NaN       WAS               SCORED  2016-10-27       Yes       ATL   \n",
       "3         NaN       WAS               SCORED  2016-10-27       Yes       ATL   \n",
       "4         NaN       WAS               MISSED  2016-10-27       Yes       ATL   \n",
       "\n",
       "   location x  location y opponent previous shot player position  points  \\\n",
       "0        97.0       405.0                 SCORED              SF       2   \n",
       "1        52.0       250.0                 SCORED               C       2   \n",
       "2       239.0       223.0                 MISSED              SG       2   \n",
       "3       102.0       385.0                 SCORED              PG       2   \n",
       "4       128.0       265.0                 MISSED              PF       2   \n",
       "\n",
       "   quarter self previous shot     shoot player             shot type  time  \\\n",
       "0        1                NaN    Kent Bazemore      Pullup Jump Shot  1:09   \n",
       "1        1             MISSED    Dwight Howard         Tip Dunk Shot  1:11   \n",
       "2        1             SCORED      Kyle Korver             Jump Shot  1:41   \n",
       "3        1             SCORED  Dennis Schroder      Pullup Jump Shot  2:16   \n",
       "4        1             SCORED     Paul Millsap  Turnaround Jump Shot  2:40   \n",
       "\n",
       "   time from last shot  \n",
       "0                  NaN  \n",
       "1                  2.0  \n",
       "2                 30.0  \n",
       "3                 35.0  \n",
       "4                 24.0  "
      ]
     },
     "execution_count": 33,
     "metadata": {},
     "output_type": "execute_result"
    }
   ],
   "source": [
    "df.head()"
   ]
  },
  {
   "cell_type": "code",
   "execution_count": 34,
   "metadata": {},
   "outputs": [],
   "source": [
    "df = df.drop(['Unnamed: 0','self previous shot', 'opponent previous shot', 'time from last shot'], axis = 1)"
   ]
  },
  {
   "cell_type": "code",
   "execution_count": 35,
   "metadata": {},
   "outputs": [],
   "source": [
    "df = df.rename(columns={'player position':'player_position','shot type':'shot_type','away team': 'away_team','current shot outcome':'outcome', 'home team' : 'home_team', 'location x':'loc_x','location y':'loc_y','shoot player':'shooter','home game':'home'})"
   ]
  },
  {
   "cell_type": "code",
   "execution_count": 36,
   "metadata": {},
   "outputs": [
    {
     "data": {
      "text/html": [
       "<div>\n",
       "<style scoped>\n",
       "    .dataframe tbody tr th:only-of-type {\n",
       "        vertical-align: middle;\n",
       "    }\n",
       "\n",
       "    .dataframe tbody tr th {\n",
       "        vertical-align: top;\n",
       "    }\n",
       "\n",
       "    .dataframe thead th {\n",
       "        text-align: right;\n",
       "    }\n",
       "</style>\n",
       "<table border=\"1\" class=\"dataframe\">\n",
       "  <thead>\n",
       "    <tr style=\"text-align: right;\">\n",
       "      <th></th>\n",
       "      <th>away_team</th>\n",
       "      <th>outcome</th>\n",
       "      <th>date</th>\n",
       "      <th>home</th>\n",
       "      <th>home_team</th>\n",
       "      <th>loc_x</th>\n",
       "      <th>loc_y</th>\n",
       "      <th>player_position</th>\n",
       "      <th>points</th>\n",
       "      <th>quarter</th>\n",
       "      <th>shooter</th>\n",
       "      <th>shot_type</th>\n",
       "      <th>time</th>\n",
       "    </tr>\n",
       "  </thead>\n",
       "  <tbody>\n",
       "    <tr>\n",
       "      <th>0</th>\n",
       "      <td>WAS</td>\n",
       "      <td>MISSED</td>\n",
       "      <td>2016-10-27</td>\n",
       "      <td>Yes</td>\n",
       "      <td>ATL</td>\n",
       "      <td>97.0</td>\n",
       "      <td>405.0</td>\n",
       "      <td>SF</td>\n",
       "      <td>2</td>\n",
       "      <td>1</td>\n",
       "      <td>Kent Bazemore</td>\n",
       "      <td>Pullup Jump Shot</td>\n",
       "      <td>1:09</td>\n",
       "    </tr>\n",
       "    <tr>\n",
       "      <th>1</th>\n",
       "      <td>WAS</td>\n",
       "      <td>SCORED</td>\n",
       "      <td>2016-10-27</td>\n",
       "      <td>Yes</td>\n",
       "      <td>ATL</td>\n",
       "      <td>52.0</td>\n",
       "      <td>250.0</td>\n",
       "      <td>C</td>\n",
       "      <td>2</td>\n",
       "      <td>1</td>\n",
       "      <td>Dwight Howard</td>\n",
       "      <td>Tip Dunk Shot</td>\n",
       "      <td>1:11</td>\n",
       "    </tr>\n",
       "    <tr>\n",
       "      <th>2</th>\n",
       "      <td>WAS</td>\n",
       "      <td>SCORED</td>\n",
       "      <td>2016-10-27</td>\n",
       "      <td>Yes</td>\n",
       "      <td>ATL</td>\n",
       "      <td>239.0</td>\n",
       "      <td>223.0</td>\n",
       "      <td>SG</td>\n",
       "      <td>2</td>\n",
       "      <td>1</td>\n",
       "      <td>Kyle Korver</td>\n",
       "      <td>Jump Shot</td>\n",
       "      <td>1:41</td>\n",
       "    </tr>\n",
       "    <tr>\n",
       "      <th>3</th>\n",
       "      <td>WAS</td>\n",
       "      <td>SCORED</td>\n",
       "      <td>2016-10-27</td>\n",
       "      <td>Yes</td>\n",
       "      <td>ATL</td>\n",
       "      <td>102.0</td>\n",
       "      <td>385.0</td>\n",
       "      <td>PG</td>\n",
       "      <td>2</td>\n",
       "      <td>1</td>\n",
       "      <td>Dennis Schroder</td>\n",
       "      <td>Pullup Jump Shot</td>\n",
       "      <td>2:16</td>\n",
       "    </tr>\n",
       "    <tr>\n",
       "      <th>4</th>\n",
       "      <td>WAS</td>\n",
       "      <td>MISSED</td>\n",
       "      <td>2016-10-27</td>\n",
       "      <td>Yes</td>\n",
       "      <td>ATL</td>\n",
       "      <td>128.0</td>\n",
       "      <td>265.0</td>\n",
       "      <td>PF</td>\n",
       "      <td>2</td>\n",
       "      <td>1</td>\n",
       "      <td>Paul Millsap</td>\n",
       "      <td>Turnaround Jump Shot</td>\n",
       "      <td>2:40</td>\n",
       "    </tr>\n",
       "  </tbody>\n",
       "</table>\n",
       "</div>"
      ],
      "text/plain": [
       "  away_team outcome        date home home_team  loc_x  loc_y player_position  \\\n",
       "0       WAS  MISSED  2016-10-27  Yes       ATL   97.0  405.0              SF   \n",
       "1       WAS  SCORED  2016-10-27  Yes       ATL   52.0  250.0               C   \n",
       "2       WAS  SCORED  2016-10-27  Yes       ATL  239.0  223.0              SG   \n",
       "3       WAS  SCORED  2016-10-27  Yes       ATL  102.0  385.0              PG   \n",
       "4       WAS  MISSED  2016-10-27  Yes       ATL  128.0  265.0              PF   \n",
       "\n",
       "   points  quarter          shooter             shot_type  time  \n",
       "0       2        1    Kent Bazemore      Pullup Jump Shot  1:09  \n",
       "1       2        1    Dwight Howard         Tip Dunk Shot  1:11  \n",
       "2       2        1      Kyle Korver             Jump Shot  1:41  \n",
       "3       2        1  Dennis Schroder      Pullup Jump Shot  2:16  \n",
       "4       2        1     Paul Millsap  Turnaround Jump Shot  2:40  "
      ]
     },
     "execution_count": 36,
     "metadata": {},
     "output_type": "execute_result"
    }
   ],
   "source": [
    "df.head()"
   ]
  },
  {
   "cell_type": "markdown",
   "metadata": {},
   "source": [
    "Let's check whether there are missing values in some of the columns:"
   ]
  },
  {
   "cell_type": "code",
   "execution_count": 37,
   "metadata": {},
   "outputs": [
    {
     "data": {
      "text/plain": [
       "away_team            0\n",
       "outcome              0\n",
       "date                 0\n",
       "home                 0\n",
       "home_team            0\n",
       "loc_x              397\n",
       "loc_y              397\n",
       "player_position      0\n",
       "points               0\n",
       "quarter              0\n",
       "shooter              0\n",
       "shot_type            0\n",
       "time                 0\n",
       "dtype: int64"
      ]
     },
     "execution_count": 37,
     "metadata": {},
     "output_type": "execute_result"
    }
   ],
   "source": [
    "df.isnull().sum()"
   ]
  },
  {
   "cell_type": "markdown",
   "metadata": {},
   "source": [
    "We have 397 missing coordinates. We can either delete them or replace with the mean coordinates of a particular player. Since we do not build a prediction model, deletion is more sufficient"
   ]
  },
  {
   "cell_type": "code",
   "execution_count": 38,
   "metadata": {},
   "outputs": [
    {
     "data": {
      "text/html": [
       "<div>\n",
       "<style scoped>\n",
       "    .dataframe tbody tr th:only-of-type {\n",
       "        vertical-align: middle;\n",
       "    }\n",
       "\n",
       "    .dataframe tbody tr th {\n",
       "        vertical-align: top;\n",
       "    }\n",
       "\n",
       "    .dataframe thead th {\n",
       "        text-align: right;\n",
       "    }\n",
       "</style>\n",
       "<table border=\"1\" class=\"dataframe\">\n",
       "  <thead>\n",
       "    <tr style=\"text-align: right;\">\n",
       "      <th></th>\n",
       "      <th>away_team</th>\n",
       "      <th>outcome</th>\n",
       "      <th>date</th>\n",
       "      <th>home</th>\n",
       "      <th>home_team</th>\n",
       "      <th>loc_x</th>\n",
       "      <th>loc_y</th>\n",
       "      <th>player_position</th>\n",
       "      <th>points</th>\n",
       "      <th>quarter</th>\n",
       "      <th>shooter</th>\n",
       "      <th>shot_type</th>\n",
       "      <th>time</th>\n",
       "    </tr>\n",
       "  </thead>\n",
       "  <tbody>\n",
       "    <tr>\n",
       "      <th>97</th>\n",
       "      <td>ATL</td>\n",
       "      <td>MISSED</td>\n",
       "      <td>2016-10-29</td>\n",
       "      <td>No</td>\n",
       "      <td>PHI</td>\n",
       "      <td>NaN</td>\n",
       "      <td>NaN</td>\n",
       "      <td>SF</td>\n",
       "      <td>3</td>\n",
       "      <td>1</td>\n",
       "      <td>Kent Bazemore</td>\n",
       "      <td>Jump Shot</td>\n",
       "      <td>3:51</td>\n",
       "    </tr>\n",
       "    <tr>\n",
       "      <th>1377</th>\n",
       "      <td>ATL</td>\n",
       "      <td>MISSED</td>\n",
       "      <td>2016-11-27</td>\n",
       "      <td>No</td>\n",
       "      <td>LAL</td>\n",
       "      <td>NaN</td>\n",
       "      <td>NaN</td>\n",
       "      <td>PG</td>\n",
       "      <td>3</td>\n",
       "      <td>2</td>\n",
       "      <td>Dennis Schroder</td>\n",
       "      <td>Jump Shot</td>\n",
       "      <td>8:16</td>\n",
       "    </tr>\n",
       "    <tr>\n",
       "      <th>1392</th>\n",
       "      <td>ATL</td>\n",
       "      <td>SCORED</td>\n",
       "      <td>2016-11-27</td>\n",
       "      <td>No</td>\n",
       "      <td>LAL</td>\n",
       "      <td>NaN</td>\n",
       "      <td>NaN</td>\n",
       "      <td>SF</td>\n",
       "      <td>3</td>\n",
       "      <td>3</td>\n",
       "      <td>Kent Bazemore</td>\n",
       "      <td>Jump Shot</td>\n",
       "      <td>4:22</td>\n",
       "    </tr>\n",
       "    <tr>\n",
       "      <th>2171</th>\n",
       "      <td>ATL</td>\n",
       "      <td>MISSED</td>\n",
       "      <td>2016-12-16</td>\n",
       "      <td>No</td>\n",
       "      <td>TOR</td>\n",
       "      <td>NaN</td>\n",
       "      <td>NaN</td>\n",
       "      <td>C</td>\n",
       "      <td>3</td>\n",
       "      <td>3</td>\n",
       "      <td>Mike Muscala</td>\n",
       "      <td>Jump Shot</td>\n",
       "      <td>8:10</td>\n",
       "    </tr>\n",
       "    <tr>\n",
       "      <th>4702</th>\n",
       "      <td>ATL</td>\n",
       "      <td>MISSED</td>\n",
       "      <td>2017-02-15</td>\n",
       "      <td>No</td>\n",
       "      <td>LAC</td>\n",
       "      <td>NaN</td>\n",
       "      <td>NaN</td>\n",
       "      <td>SF</td>\n",
       "      <td>3</td>\n",
       "      <td>2</td>\n",
       "      <td>Kent Bazemore</td>\n",
       "      <td>Jump Shot</td>\n",
       "      <td>4:17</td>\n",
       "    </tr>\n",
       "  </tbody>\n",
       "</table>\n",
       "</div>"
      ],
      "text/plain": [
       "     away_team outcome        date home home_team  loc_x  loc_y  \\\n",
       "97         ATL  MISSED  2016-10-29   No       PHI    NaN    NaN   \n",
       "1377       ATL  MISSED  2016-11-27   No       LAL    NaN    NaN   \n",
       "1392       ATL  SCORED  2016-11-27   No       LAL    NaN    NaN   \n",
       "2171       ATL  MISSED  2016-12-16   No       TOR    NaN    NaN   \n",
       "4702       ATL  MISSED  2017-02-15   No       LAC    NaN    NaN   \n",
       "\n",
       "     player_position  points  quarter          shooter  shot_type  time  \n",
       "97                SF       3        1    Kent Bazemore  Jump Shot  3:51  \n",
       "1377              PG       3        2  Dennis Schroder  Jump Shot  8:16  \n",
       "1392              SF       3        3    Kent Bazemore  Jump Shot  4:22  \n",
       "2171               C       3        3     Mike Muscala  Jump Shot  8:10  \n",
       "4702              SF       3        2    Kent Bazemore  Jump Shot  4:17  "
      ]
     },
     "execution_count": 38,
     "metadata": {},
     "output_type": "execute_result"
    }
   ],
   "source": [
    "nans = lambda df: df[df.isnull().any(axis=1)]\n",
    "nans(df).head()"
   ]
  },
  {
   "cell_type": "code",
   "execution_count": 39,
   "metadata": {},
   "outputs": [],
   "source": [
    "df.dropna(subset=['loc_x'], inplace=True)"
   ]
  },
  {
   "cell_type": "markdown",
   "metadata": {},
   "source": [
    "The target variable has 3 classes so we can simply make it binary by clasifying 'blocked' output as 'missed':"
   ]
  },
  {
   "cell_type": "code",
   "execution_count": 40,
   "metadata": {},
   "outputs": [],
   "source": [
    "df['outcome'] = df.outcome.replace('BLOCKED',0)\n",
    "df['outcome'] = df.outcome.replace('MISSED',0)\n",
    "df['outcome'] = df.outcome.replace('SCORED',1)"
   ]
  },
  {
   "cell_type": "markdown",
   "metadata": {},
   "source": [
    "## Drawing a Basketball Court"
   ]
  },
  {
   "cell_type": "markdown",
   "metadata": {},
   "source": [
    "Firstly, we draw a court with two sides:"
   ]
  },
  {
   "cell_type": "code",
   "execution_count": null,
   "metadata": {},
   "outputs": [],
   "source": [
    "from matplotlib.patches import Circle, Rectangle, Arc\n",
    "\n",
    "def draw_court(ax=None, color='black', lw=2, outer_lines=False):\n",
    "    # If an axes object isn't provided to plot onto, just get current one\n",
    "    if ax is None:\n",
    "        ax = plt.gca()\n",
    "     \n",
    "    backboard1 = Rectangle((50, 225), -1, 50, linewidth=lw, color=color)\n",
    "    backboard2 = Rectangle((895, 225), 1, 50, linewidth=lw, color=color)\n",
    "    \n",
    "    hoop1 = Circle((60, 250), radius=6, linewidth=lw, color=color, fill=False)\n",
    "    hoop2 = Circle((885, 250), radius=6, linewidth=lw, color=color, fill=False)\n",
    "    \n",
    "    restricted1 = Arc((50, 250), 80, 80, angle=270, theta1=0, theta2=180, linewidth=lw,\n",
    "                     color=color)\n",
    "    \n",
    "    restricted2 = Arc((895, 250), 80, 80, angle=270, theta1=180, theta2=0, linewidth=lw,\n",
    "                     color=color)\n",
    "    \n",
    "    freethrow1_outer = Arc((195, 250), 100, 120, angle=270, theta1=0, theta2=180, linewidth=lw,\n",
    "                     color=color)\n",
    "    \n",
    "    freethrow2_outer = Arc((755, 250), 100, 120, angle=270, theta1=180, theta2=0, linewidth=lw,\n",
    "                     color=color)\n",
    "    \n",
    "    freethrow1_inner = Arc((195, 250), 100, 120, angle=270, theta1=180, theta2=0, linewidth=lw,\n",
    "                     color=color, linestyle='dashed')\n",
    "    \n",
    "    freethrow2_inner = Arc((755, 250), 100, 120, angle=270, theta1=0, theta2=180, linewidth=lw,\n",
    "                     color=color, linestyle='dashed')\n",
    "    \n",
    "    threepoint1 = Arc((90, 250), 450, 400, angle=270, theta1=0, theta2=180, linewidth=lw,\n",
    "                     color=color)\n",
    "    \n",
    "    threepoint2 = Arc((850, 250), 450, 400, angle=270, theta1=180, theta2=0, linewidth=lw,\n",
    "                     color=color)    \n",
    "    \n",
    "    innerbox1 = Rectangle((20, 200), 175, 100, linewidth=lw, color=color,\n",
    "                          fill=False)\n",
    "    \n",
    "    innerbox2 = Rectangle((920, 200), -175, 100, linewidth=lw, color=color,\n",
    "                          fill=False)\n",
    "    \n",
    "    outbox1 = Rectangle((20, 190), 175, 120, linewidth=lw, color=color,\n",
    "                          fill=False)\n",
    "    \n",
    "    outbox2 = Rectangle((930, 190), -175, 120, linewidth=lw, color=color,\n",
    "                          fill=False)\n",
    "    \n",
    "    half_court_line = Rectangle((470, 0), 1, 500, linewidth=lw, color=color,\n",
    "                          fill=False)\n",
    "    \n",
    "    half_court_circle  = Circle((470, 250), radius=60, linewidth=lw, color=color, fill=False)\n",
    "    \n",
    "    # List of the court elements to be plotted onto the axes\n",
    "    court_elements = [backboard1, backboard2, hoop1, hoop2, restricted1,\n",
    "                      restricted2, threepoint1, threepoint2, innerbox1,\n",
    "                      innerbox2, freethrow1_outer, freethrow2_outer,\n",
    "                      outbox1, outbox2, freethrow1_inner, freethrow2_inner,\n",
    "                      half_court_line, half_court_circle]\n",
    "    \n",
    "    if outer_lines:\n",
    "    # Draw the half court line, baseline and side out bound lines\n",
    "        outer_lines = Rectangle((20, 0), 910, 500, linewidth=lw,\n",
    "                                color=color, fill=False)\n",
    "        court_elements.append(outer_lines)\n",
    "    \n",
    "      # Add the court elements onto the axes\n",
    "    for element in court_elements:\n",
    "        ax.add_patch(element)\n",
    "    \n",
    "    ax.set_aspect('auto')\n",
    "    ax.set_xlabel('')\n",
    "    ax.set_ylabel('')\n",
    "    ax.tick_params(labelbottom=False, labelleft=False)\n",
    "    \n",
    "    return ax"
   ]
  },
  {
   "cell_type": "code",
   "execution_count": null,
   "metadata": {},
   "outputs": [],
   "source": [
    "plt.figure(figsize=(16,10))\n",
    "draw_court(outer_lines=True)\n",
    "plt.xlim(0,950)\n",
    "plt.ylim(-20,520)\n",
    "plt.scatter(df['loc_x'],df['loc_y'])\n",
    "plt.show()"
   ]
  },
  {
   "cell_type": "markdown",
   "metadata": {},
   "source": [
    "At the next step, we project all data points on one side:"
   ]
  },
  {
   "cell_type": "code",
   "execution_count": null,
   "metadata": {},
   "outputs": [],
   "source": [
    "middle_x = 475.0\n",
    "middle_y = 250.0"
   ]
  },
  {
   "cell_type": "markdown",
   "metadata": {},
   "source": [
    "ADRIAN HELP!!!!!!!!!!!!"
   ]
  },
  {
   "cell_type": "code",
   "execution_count": null,
   "metadata": {},
   "outputs": [],
   "source": [
    "df12 = df[df.quarter.isin([1,2])]\n",
    "df34 = df[df.quarter.isin([3,4])]"
   ]
  },
  {
   "cell_type": "code",
   "execution_count": null,
   "metadata": {},
   "outputs": [],
   "source": [
    "df34['loc_x'] = df34['loc_x'] - 2*(df34['loc_x']-middle_x) "
   ]
  },
  {
   "cell_type": "code",
   "execution_count": null,
   "metadata": {},
   "outputs": [],
   "source": [
    "df34['loc_y'] = np.where(df34['loc_y']<=250, df34['loc_y'] + 2 * np.abs((df34['loc_y'] - middle_y)), df34['loc_y'] - 2 * np.abs((df34['loc_y'] - middle_y)))"
   ]
  },
  {
   "cell_type": "code",
   "execution_count": null,
   "metadata": {},
   "outputs": [],
   "source": [
    "final_df = pd.concat([df12, df34])"
   ]
  },
  {
   "cell_type": "code",
   "execution_count": null,
   "metadata": {},
   "outputs": [],
   "source": [
    "df.head()"
   ]
  },
  {
   "cell_type": "code",
   "execution_count": null,
   "metadata": {},
   "outputs": [],
   "source": [
    "def draw_half_court(ax=None, color='black', lw=2, outer_lines=False):\n",
    "    # If an axes object isn't provided to plot onto, just get current one\n",
    "    if ax is None:\n",
    "        ax = plt.gca()\n",
    "     \n",
    "    backboard1 = Rectangle((50, 225), -1, 50, linewidth=lw, color=color)\n",
    "    \n",
    "    hoop1 = Circle((55, 250), radius=6, linewidth=lw, color=color, fill=False)\n",
    "    \n",
    "    restricted1 = Arc((50, 250), 80, 80, angle=270, theta1=0, theta2=180, linewidth=lw,\n",
    "                     color=color)\n",
    "    \n",
    "    freethrow1_outer = Arc((195, 250), 100, 120, angle=270, theta1=0, theta2=180, linewidth=lw,\n",
    "                     color=color)\n",
    "    \n",
    "    freethrow1_inner = Arc((195, 250), 100, 120, angle=270, theta1=180, theta2=0, linewidth=lw,\n",
    "                     color=color, linestyle='dashed')\n",
    "    \n",
    "    freethrow1_point = Circle((195, 250), radius=4, linewidth=lw, color=color, fill=True)\n",
    "    \n",
    "    threepoint1 = Arc((90, 250), 450, 400, angle=270, theta1=0, theta2=180, linewidth=lw,\n",
    "                     color=color)\n",
    "    \n",
    "    innerbox1 = Rectangle((20, 200), 175, 100, linewidth=lw, color=color,\n",
    "                          fill=False)\n",
    "    \n",
    "    outbox1 = Rectangle((20, 190), 175, 120, linewidth=lw, color=color,\n",
    "                      fill=False)\n",
    "    \n",
    "    half_court_circle  = Arc((490, 250), 100, 120, angle=270, theta1=180, theta2=0, linewidth=lw,\n",
    "                     color=color)\n",
    "    \n",
    "    half_court_point  = Arc((490, 250), 5, 5, angle=270, theta1=180, theta2=0, linewidth=6,\n",
    "                 color=color)\n",
    "    \n",
    "    lower_three_line = Rectangle((20, 25), 70, 1, linewidth=0.5*lw, color=color,\n",
    "                          fill=False)\n",
    "    \n",
    "    upper_three_line = Rectangle((20, 475), 70, 1, linewidth=0.5*lw, color=color,\n",
    "                      fill=False)\n",
    "    \n",
    "    # List of the court elements to be plotted onto the axes\n",
    "    court_elements = [backboard1, hoop1, restricted1,\n",
    "                       threepoint1, innerbox1, freethrow1_outer,freethrow1_point,\n",
    "                      outbox1, freethrow1_inner,lower_three_line, upper_three_line, half_court_circle, half_court_point]\n",
    "    \n",
    "    if outer_lines:\n",
    "    # Draw the half court line, baseline and side out bound lines\n",
    "        outer_lines = Rectangle((20, 0), 470, 500, linewidth=lw,\n",
    "                                color=color, fill=False)\n",
    "        court_elements.append(outer_lines)\n",
    "    \n",
    "      # Add the court elements onto the axes\n",
    "    for element in court_elements:\n",
    "        ax.add_patch(element)\n",
    "    \n",
    "    ax.set_aspect('auto')\n",
    "    ax.set_xlabel('')\n",
    "    ax.set_ylabel('')\n",
    "    ax.tick_params(labelbottom=False, labelleft=False)\n",
    "    \n",
    "    return ax"
   ]
  },
  {
   "cell_type": "code",
   "execution_count": null,
   "metadata": {},
   "outputs": [],
   "source": [
    "plt.figure(figsize=(16,10))\n",
    "draw_half_court(outer_lines=True)\n",
    "plt.xlim(0,950)\n",
    "plt.ylim(-20,520)\n",
    "plt.scatter(final_df['loc_x'], final_df['loc_y'])\n",
    "plt.show()"
   ]
  }
 ],
 "metadata": {
  "kernelspec": {
   "display_name": "Python 3",
   "language": "python",
   "name": "python3"
  },
  "language_info": {
   "codemirror_mode": {
    "name": "ipython",
    "version": 3
   },
   "file_extension": ".py",
   "mimetype": "text/x-python",
   "name": "python",
   "nbconvert_exporter": "python",
   "pygments_lexer": "ipython3",
   "version": "3.7.0"
  }
 },
 "nbformat": 4,
 "nbformat_minor": 2
}
