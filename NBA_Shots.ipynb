{
 "cells": [
  {
   "cell_type": "code",
   "execution_count": 56,
   "metadata": {},
   "outputs": [],
   "source": [
    "import pandas as pd\n",
    "import numpy as np\n",
    "import matplotlib.pyplot as plt\n",
    "import seaborn as sns\n",
    "import glob\n",
    "import os\n",
    "#os.chdir(\"data/shots\")"
   ]
  },
  {
   "cell_type": "code",
   "execution_count": 57,
   "metadata": {},
   "outputs": [
    {
     "name": "stdout",
     "output_type": "stream",
     "text": [
      "['shot log PHX.csv', 'shot log MIL.csv', 'shot log SAC.csv', 'shot log DAL.csv', 'shot log MIN.csv', 'shot log MEM.csv', 'shot log WAS.csv', 'shot log SAS.csv', 'shot log PHI.csv', 'shot log BOS.csv', 'combined_csv.csv', 'shot log CHA.csv', 'shot log LAC.csv', 'shot log UTA.csv', 'shot log DET.csv', 'shot log ATL.csv', 'shot log BRO.csv', 'shot log TOR.csv', 'shot log CLE.csv', 'shot log DEN.csv', 'shot log IND.csv', 'shot log POR.csv', 'shot log ORL.csv', 'shot log NYK.csv', 'shot log GSW.csv', 'shot log NOP.csv', 'shot log LAL.csv', 'shot log OKL.csv', 'shot log HOU.csv', 'shot log CHI.csv', 'shot log MIA.csv']\n"
     ]
    }
   ],
   "source": [
    "extension = 'csv'\n",
    "all_filenames = [i for i in glob.glob('*.{}'.format(extension))]\n",
    "print(all_filenames)"
   ]
  },
  {
   "cell_type": "markdown",
   "metadata": {},
   "source": [
    "#### this cell is to be executed only once. Number of rows has to be 210072. "
   ]
  },
  {
   "cell_type": "code",
   "execution_count": 58,
   "metadata": {},
   "outputs": [],
   "source": [
    "#combine all files in the list\n",
    "combined_csv = pd.concat([pd.read_csv(f) for f in all_filenames ])\n",
    "#export to csv\n",
    "combined_csv.to_csv( \"combined_csv.csv\", index=False, encoding='utf-8-sig')"
   ]
  },
  {
   "cell_type": "code",
   "execution_count": 59,
   "metadata": {},
   "outputs": [],
   "source": [
    "df = pd.DataFrame(combined_csv)"
   ]
  },
  {
   "cell_type": "code",
   "execution_count": 60,
   "metadata": {},
   "outputs": [
    {
     "data": {
      "text/plain": [
       "(210072, 16)"
      ]
     },
     "execution_count": 60,
     "metadata": {},
     "output_type": "execute_result"
    }
   ],
   "source": [
    "df.shape"
   ]
  },
  {
   "cell_type": "code",
   "execution_count": 61,
   "metadata": {},
   "outputs": [
    {
     "data": {
      "text/html": [
       "<div>\n",
       "<style scoped>\n",
       "    .dataframe tbody tr th:only-of-type {\n",
       "        vertical-align: middle;\n",
       "    }\n",
       "\n",
       "    .dataframe tbody tr th {\n",
       "        vertical-align: top;\n",
       "    }\n",
       "\n",
       "    .dataframe thead th {\n",
       "        text-align: right;\n",
       "    }\n",
       "</style>\n",
       "<table border=\"1\" class=\"dataframe\">\n",
       "  <thead>\n",
       "    <tr style=\"text-align: right;\">\n",
       "      <th></th>\n",
       "      <th>self previous shot</th>\n",
       "      <th>player position</th>\n",
       "      <th>home game</th>\n",
       "      <th>location x</th>\n",
       "      <th>opponent previous shot</th>\n",
       "      <th>home team</th>\n",
       "      <th>shot type</th>\n",
       "      <th>points</th>\n",
       "      <th>away team</th>\n",
       "      <th>location y</th>\n",
       "      <th>time</th>\n",
       "      <th>date</th>\n",
       "      <th>shoot player</th>\n",
       "      <th>time from last shot</th>\n",
       "      <th>quarter</th>\n",
       "      <th>current shot outcome</th>\n",
       "    </tr>\n",
       "  </thead>\n",
       "  <tbody>\n",
       "    <tr>\n",
       "      <th>0</th>\n",
       "      <td>NaN</td>\n",
       "      <td>PF</td>\n",
       "      <td>Yes</td>\n",
       "      <td>107.0</td>\n",
       "      <td>SCORED</td>\n",
       "      <td>PHX</td>\n",
       "      <td>Floating Jump Shot</td>\n",
       "      <td>2</td>\n",
       "      <td>SAC</td>\n",
       "      <td>252.0</td>\n",
       "      <td>0:51</td>\n",
       "      <td>2016-10-26</td>\n",
       "      <td>Jared Dudley</td>\n",
       "      <td>NaN</td>\n",
       "      <td>1</td>\n",
       "      <td>SCORED</td>\n",
       "    </tr>\n",
       "    <tr>\n",
       "      <th>1</th>\n",
       "      <td>SCORED</td>\n",
       "      <td>SG</td>\n",
       "      <td>Yes</td>\n",
       "      <td>254.0</td>\n",
       "      <td>MISSED</td>\n",
       "      <td>PHX</td>\n",
       "      <td>Jump Shot</td>\n",
       "      <td>3</td>\n",
       "      <td>SAC</td>\n",
       "      <td>56.0</td>\n",
       "      <td>1:14</td>\n",
       "      <td>2016-10-26</td>\n",
       "      <td>Devin Booker</td>\n",
       "      <td>23.0</td>\n",
       "      <td>1</td>\n",
       "      <td>MISSED</td>\n",
       "    </tr>\n",
       "    <tr>\n",
       "      <th>2</th>\n",
       "      <td>MISSED</td>\n",
       "      <td>C</td>\n",
       "      <td>Yes</td>\n",
       "      <td>52.0</td>\n",
       "      <td>SCORED</td>\n",
       "      <td>PHX</td>\n",
       "      <td>Cutting Dunk Shot</td>\n",
       "      <td>2</td>\n",
       "      <td>SAC</td>\n",
       "      <td>250.0</td>\n",
       "      <td>1:44</td>\n",
       "      <td>2016-10-26</td>\n",
       "      <td>Tyson Chandler</td>\n",
       "      <td>30.0</td>\n",
       "      <td>1</td>\n",
       "      <td>SCORED</td>\n",
       "    </tr>\n",
       "    <tr>\n",
       "      <th>3</th>\n",
       "      <td>SCORED</td>\n",
       "      <td>PG</td>\n",
       "      <td>Yes</td>\n",
       "      <td>241.0</td>\n",
       "      <td>MISSED</td>\n",
       "      <td>PHX</td>\n",
       "      <td>Pullup Jump Shot</td>\n",
       "      <td>2</td>\n",
       "      <td>SAC</td>\n",
       "      <td>359.0</td>\n",
       "      <td>2:16</td>\n",
       "      <td>2016-10-26</td>\n",
       "      <td>Eric Bledsoe</td>\n",
       "      <td>32.0</td>\n",
       "      <td>1</td>\n",
       "      <td>MISSED</td>\n",
       "    </tr>\n",
       "    <tr>\n",
       "      <th>4</th>\n",
       "      <td>MISSED</td>\n",
       "      <td>SG</td>\n",
       "      <td>Yes</td>\n",
       "      <td>225.0</td>\n",
       "      <td>MISSED</td>\n",
       "      <td>PHX</td>\n",
       "      <td>Jump Shot</td>\n",
       "      <td>3</td>\n",
       "      <td>SAC</td>\n",
       "      <td>447.0</td>\n",
       "      <td>2:40</td>\n",
       "      <td>2016-10-26</td>\n",
       "      <td>Devin Booker</td>\n",
       "      <td>24.0</td>\n",
       "      <td>1</td>\n",
       "      <td>MISSED</td>\n",
       "    </tr>\n",
       "  </tbody>\n",
       "</table>\n",
       "</div>"
      ],
      "text/plain": [
       "  self previous shot player position home game  location x  \\\n",
       "0                NaN              PF       Yes       107.0   \n",
       "1             SCORED              SG       Yes       254.0   \n",
       "2             MISSED               C       Yes        52.0   \n",
       "3             SCORED              PG       Yes       241.0   \n",
       "4             MISSED              SG       Yes       225.0   \n",
       "\n",
       "  opponent previous shot home team           shot type points away team  \\\n",
       "0                 SCORED       PHX  Floating Jump Shot      2       SAC   \n",
       "1                 MISSED       PHX           Jump Shot      3       SAC   \n",
       "2                 SCORED       PHX   Cutting Dunk Shot      2       SAC   \n",
       "3                 MISSED       PHX    Pullup Jump Shot      2       SAC   \n",
       "4                 MISSED       PHX           Jump Shot      3       SAC   \n",
       "\n",
       "   location y  time        date    shoot player  time from last shot quarter  \\\n",
       "0       252.0  0:51  2016-10-26    Jared Dudley                  NaN       1   \n",
       "1        56.0  1:14  2016-10-26    Devin Booker                 23.0       1   \n",
       "2       250.0  1:44  2016-10-26  Tyson Chandler                 30.0       1   \n",
       "3       359.0  2:16  2016-10-26    Eric Bledsoe                 32.0       1   \n",
       "4       447.0  2:40  2016-10-26    Devin Booker                 24.0       1   \n",
       "\n",
       "  current shot outcome  \n",
       "0               SCORED  \n",
       "1               MISSED  \n",
       "2               SCORED  \n",
       "3               MISSED  \n",
       "4               MISSED  "
      ]
     },
     "execution_count": 61,
     "metadata": {},
     "output_type": "execute_result"
    }
   ],
   "source": [
    "df.head()"
   ]
  },
  {
   "cell_type": "code",
   "execution_count": 62,
   "metadata": {},
   "outputs": [],
   "source": [
    "df = df.drop(['self previous shot', 'opponent previous shot', 'time from last shot'], axis = 1)"
   ]
  },
  {
   "cell_type": "code",
   "execution_count": 70,
   "metadata": {},
   "outputs": [],
   "source": [
    "df = df.rename(columns={'player position':'player_position','shot type':'shot_type','away team': 'away_team','current shot outcome':'outcome', 'home team' : 'home_team', 'location x':'loc_x','location y':'loc_y','shoot player':'shooter','home game':'home'})"
   ]
  },
  {
   "cell_type": "code",
   "execution_count": 71,
   "metadata": {},
   "outputs": [
    {
     "data": {
      "text/html": [
       "<div>\n",
       "<style scoped>\n",
       "    .dataframe tbody tr th:only-of-type {\n",
       "        vertical-align: middle;\n",
       "    }\n",
       "\n",
       "    .dataframe tbody tr th {\n",
       "        vertical-align: top;\n",
       "    }\n",
       "\n",
       "    .dataframe thead th {\n",
       "        text-align: right;\n",
       "    }\n",
       "</style>\n",
       "<table border=\"1\" class=\"dataframe\">\n",
       "  <thead>\n",
       "    <tr style=\"text-align: right;\">\n",
       "      <th></th>\n",
       "      <th>player_position</th>\n",
       "      <th>home</th>\n",
       "      <th>loc_x</th>\n",
       "      <th>home_team</th>\n",
       "      <th>shot_type</th>\n",
       "      <th>points</th>\n",
       "      <th>away_team</th>\n",
       "      <th>loc_y</th>\n",
       "      <th>time</th>\n",
       "      <th>date</th>\n",
       "      <th>shooter</th>\n",
       "      <th>quarter</th>\n",
       "      <th>outcome</th>\n",
       "    </tr>\n",
       "  </thead>\n",
       "  <tbody>\n",
       "    <tr>\n",
       "      <th>0</th>\n",
       "      <td>PF</td>\n",
       "      <td>Yes</td>\n",
       "      <td>107.0</td>\n",
       "      <td>PHX</td>\n",
       "      <td>Floating Jump Shot</td>\n",
       "      <td>2</td>\n",
       "      <td>SAC</td>\n",
       "      <td>252.0</td>\n",
       "      <td>0:51</td>\n",
       "      <td>2016-10-26</td>\n",
       "      <td>Jared Dudley</td>\n",
       "      <td>1</td>\n",
       "      <td>SCORED</td>\n",
       "    </tr>\n",
       "    <tr>\n",
       "      <th>1</th>\n",
       "      <td>SG</td>\n",
       "      <td>Yes</td>\n",
       "      <td>254.0</td>\n",
       "      <td>PHX</td>\n",
       "      <td>Jump Shot</td>\n",
       "      <td>3</td>\n",
       "      <td>SAC</td>\n",
       "      <td>56.0</td>\n",
       "      <td>1:14</td>\n",
       "      <td>2016-10-26</td>\n",
       "      <td>Devin Booker</td>\n",
       "      <td>1</td>\n",
       "      <td>MISSED</td>\n",
       "    </tr>\n",
       "    <tr>\n",
       "      <th>2</th>\n",
       "      <td>C</td>\n",
       "      <td>Yes</td>\n",
       "      <td>52.0</td>\n",
       "      <td>PHX</td>\n",
       "      <td>Cutting Dunk Shot</td>\n",
       "      <td>2</td>\n",
       "      <td>SAC</td>\n",
       "      <td>250.0</td>\n",
       "      <td>1:44</td>\n",
       "      <td>2016-10-26</td>\n",
       "      <td>Tyson Chandler</td>\n",
       "      <td>1</td>\n",
       "      <td>SCORED</td>\n",
       "    </tr>\n",
       "    <tr>\n",
       "      <th>3</th>\n",
       "      <td>PG</td>\n",
       "      <td>Yes</td>\n",
       "      <td>241.0</td>\n",
       "      <td>PHX</td>\n",
       "      <td>Pullup Jump Shot</td>\n",
       "      <td>2</td>\n",
       "      <td>SAC</td>\n",
       "      <td>359.0</td>\n",
       "      <td>2:16</td>\n",
       "      <td>2016-10-26</td>\n",
       "      <td>Eric Bledsoe</td>\n",
       "      <td>1</td>\n",
       "      <td>MISSED</td>\n",
       "    </tr>\n",
       "    <tr>\n",
       "      <th>4</th>\n",
       "      <td>SG</td>\n",
       "      <td>Yes</td>\n",
       "      <td>225.0</td>\n",
       "      <td>PHX</td>\n",
       "      <td>Jump Shot</td>\n",
       "      <td>3</td>\n",
       "      <td>SAC</td>\n",
       "      <td>447.0</td>\n",
       "      <td>2:40</td>\n",
       "      <td>2016-10-26</td>\n",
       "      <td>Devin Booker</td>\n",
       "      <td>1</td>\n",
       "      <td>MISSED</td>\n",
       "    </tr>\n",
       "  </tbody>\n",
       "</table>\n",
       "</div>"
      ],
      "text/plain": [
       "  player_position home  loc_x home_team           shot_type points away_team  \\\n",
       "0              PF  Yes  107.0       PHX  Floating Jump Shot      2       SAC   \n",
       "1              SG  Yes  254.0       PHX           Jump Shot      3       SAC   \n",
       "2               C  Yes   52.0       PHX   Cutting Dunk Shot      2       SAC   \n",
       "3              PG  Yes  241.0       PHX    Pullup Jump Shot      2       SAC   \n",
       "4              SG  Yes  225.0       PHX           Jump Shot      3       SAC   \n",
       "\n",
       "   loc_y  time        date         shooter quarter outcome  \n",
       "0  252.0  0:51  2016-10-26    Jared Dudley       1  SCORED  \n",
       "1   56.0  1:14  2016-10-26    Devin Booker       1  MISSED  \n",
       "2  250.0  1:44  2016-10-26  Tyson Chandler       1  SCORED  \n",
       "3  359.0  2:16  2016-10-26    Eric Bledsoe       1  MISSED  \n",
       "4  447.0  2:40  2016-10-26    Devin Booker       1  MISSED  "
      ]
     },
     "execution_count": 71,
     "metadata": {},
     "output_type": "execute_result"
    }
   ],
   "source": [
    "df.head()"
   ]
  },
  {
   "cell_type": "markdown",
   "metadata": {},
   "source": [
    "#### check whether there are missing values in some of the columns"
   ]
  },
  {
   "cell_type": "code",
   "execution_count": 65,
   "metadata": {},
   "outputs": [
    {
     "data": {
      "text/plain": [
       "player position      0\n",
       "home                 0\n",
       "loc_x              397\n",
       "home_team            0\n",
       "shot type            0\n",
       "points               0\n",
       "away team            0\n",
       "loc_y              397\n",
       "time                 0\n",
       "date                 0\n",
       "shooter              0\n",
       "quarter              0\n",
       "outcome              0\n",
       "dtype: int64"
      ]
     },
     "execution_count": 65,
     "metadata": {},
     "output_type": "execute_result"
    }
   ],
   "source": [
    "df.isnull().sum()"
   ]
  },
  {
   "cell_type": "markdown",
   "metadata": {},
   "source": [
    "#### we have 397 missing coordinates. we can either delete them or replace with the mean coordinates of a particular player. since we do not build a prediction model, I think deletion is more sufficient"
   ]
  },
  {
   "cell_type": "code",
   "execution_count": 72,
   "metadata": {},
   "outputs": [
    {
     "data": {
      "text/html": [
       "<div>\n",
       "<style scoped>\n",
       "    .dataframe tbody tr th:only-of-type {\n",
       "        vertical-align: middle;\n",
       "    }\n",
       "\n",
       "    .dataframe tbody tr th {\n",
       "        vertical-align: top;\n",
       "    }\n",
       "\n",
       "    .dataframe thead th {\n",
       "        text-align: right;\n",
       "    }\n",
       "</style>\n",
       "<table border=\"1\" class=\"dataframe\">\n",
       "  <thead>\n",
       "    <tr style=\"text-align: right;\">\n",
       "      <th></th>\n",
       "      <th>player_position</th>\n",
       "      <th>home</th>\n",
       "      <th>loc_x</th>\n",
       "      <th>home_team</th>\n",
       "      <th>shot_type</th>\n",
       "      <th>points</th>\n",
       "      <th>away_team</th>\n",
       "      <th>loc_y</th>\n",
       "      <th>time</th>\n",
       "      <th>date</th>\n",
       "      <th>shooter</th>\n",
       "      <th>quarter</th>\n",
       "      <th>outcome</th>\n",
       "    </tr>\n",
       "  </thead>\n",
       "  <tbody>\n",
       "    <tr>\n",
       "      <th>6061</th>\n",
       "      <td>PF</td>\n",
       "      <td>Yes</td>\n",
       "      <td>NaN</td>\n",
       "      <td>PHX</td>\n",
       "      <td>Jump Shot</td>\n",
       "      <td>3</td>\n",
       "      <td>ORL</td>\n",
       "      <td>NaN</td>\n",
       "      <td>7:00</td>\n",
       "      <td>2017-03-17</td>\n",
       "      <td>Jared Dudley</td>\n",
       "      <td>4</td>\n",
       "      <td>MISSED</td>\n",
       "    </tr>\n",
       "    <tr>\n",
       "      <th>6784</th>\n",
       "      <td>F</td>\n",
       "      <td>Yes</td>\n",
       "      <td>NaN</td>\n",
       "      <td>PHX</td>\n",
       "      <td>Alley Oop Dunk</td>\n",
       "      <td>2</td>\n",
       "      <td>HOU</td>\n",
       "      <td>NaN</td>\n",
       "      <td>0:24</td>\n",
       "      <td>2017-04-02</td>\n",
       "      <td>Derrick Jones, Jr.</td>\n",
       "      <td>1</td>\n",
       "      <td>SCORED</td>\n",
       "    </tr>\n",
       "    <tr>\n",
       "      <th>6785</th>\n",
       "      <td>SG</td>\n",
       "      <td>Yes</td>\n",
       "      <td>NaN</td>\n",
       "      <td>PHX</td>\n",
       "      <td>Jump Shot</td>\n",
       "      <td>3</td>\n",
       "      <td>HOU</td>\n",
       "      <td>NaN</td>\n",
       "      <td>0:47</td>\n",
       "      <td>2017-04-02</td>\n",
       "      <td>Devin Booker</td>\n",
       "      <td>1</td>\n",
       "      <td>MISSED</td>\n",
       "    </tr>\n",
       "    <tr>\n",
       "      <th>6786</th>\n",
       "      <td>SG</td>\n",
       "      <td>Yes</td>\n",
       "      <td>NaN</td>\n",
       "      <td>PHX</td>\n",
       "      <td>Jump Shot</td>\n",
       "      <td>2</td>\n",
       "      <td>HOU</td>\n",
       "      <td>NaN</td>\n",
       "      <td>1:16</td>\n",
       "      <td>2017-04-02</td>\n",
       "      <td>Devin Booker</td>\n",
       "      <td>1</td>\n",
       "      <td>MISSED</td>\n",
       "    </tr>\n",
       "    <tr>\n",
       "      <th>6787</th>\n",
       "      <td>F</td>\n",
       "      <td>Yes</td>\n",
       "      <td>NaN</td>\n",
       "      <td>PHX</td>\n",
       "      <td>Jump Shot</td>\n",
       "      <td>3</td>\n",
       "      <td>HOU</td>\n",
       "      <td>NaN</td>\n",
       "      <td>1:35</td>\n",
       "      <td>2017-04-02</td>\n",
       "      <td>Marquese Chriss</td>\n",
       "      <td>1</td>\n",
       "      <td>MISSED</td>\n",
       "    </tr>\n",
       "  </tbody>\n",
       "</table>\n",
       "</div>"
      ],
      "text/plain": [
       "     player_position home  loc_x home_team       shot_type points away_team  \\\n",
       "6061              PF  Yes    NaN       PHX       Jump Shot      3       ORL   \n",
       "6784               F  Yes    NaN       PHX  Alley Oop Dunk      2       HOU   \n",
       "6785              SG  Yes    NaN       PHX       Jump Shot      3       HOU   \n",
       "6786              SG  Yes    NaN       PHX       Jump Shot      2       HOU   \n",
       "6787               F  Yes    NaN       PHX       Jump Shot      3       HOU   \n",
       "\n",
       "      loc_y  time        date             shooter quarter outcome  \n",
       "6061    NaN  7:00  2017-03-17        Jared Dudley       4  MISSED  \n",
       "6784    NaN  0:24  2017-04-02  Derrick Jones, Jr.       1  SCORED  \n",
       "6785    NaN  0:47  2017-04-02        Devin Booker       1  MISSED  \n",
       "6786    NaN  1:16  2017-04-02        Devin Booker       1  MISSED  \n",
       "6787    NaN  1:35  2017-04-02     Marquese Chriss       1  MISSED  "
      ]
     },
     "execution_count": 72,
     "metadata": {},
     "output_type": "execute_result"
    }
   ],
   "source": [
    "nans = lambda df: df[df.isnull().any(axis=1)]\n",
    "nans(df).head()"
   ]
  },
  {
   "cell_type": "code",
   "execution_count": 73,
   "metadata": {},
   "outputs": [],
   "source": [
    "df['outcome'] = df.outcome.replace('BLOCKED','MISSED')"
   ]
  },
  {
   "cell_type": "code",
   "execution_count": 68,
   "metadata": {},
   "outputs": [],
   "source": [
    "# df = df[df.date == '2016-10-25']"
   ]
  },
  {
   "cell_type": "code",
   "execution_count": 75,
   "metadata": {},
   "outputs": [],
   "source": [
    "df = df[df['home'] == 'Yes']"
   ]
  },
  {
   "cell_type": "code",
   "execution_count": 76,
   "metadata": {},
   "outputs": [],
   "source": [
    "df1 = df[df.quarter == 1 ]\n",
    "df2 = df[df.quarter == 2]\n",
    "df3 = df[df.quarter == 3]\n",
    "df4 = df[df.quarter == 4]"
   ]
  },
  {
   "cell_type": "code",
   "execution_count": 77,
   "metadata": {},
   "outputs": [
    {
     "data": {
      "image/png": "[encoded data removed]",
      "text/plain": [
       "<Figure size 1440x720 with 1 Axes>"
      ]
     },
     "metadata": {},
     "output_type": "display_data"
    }
   ],
   "source": [
    "sns.set_style(\"white\")\n",
    "sns.set_color_codes()\n",
    "plt.figure(figsize=(20,10))\n",
    "plt.scatter(df['loc_x'], df['loc_y'])\n",
    "plt.show()"
   ]
  },
  {
   "cell_type": "code",
   "execution_count": 79,
   "metadata": {},
   "outputs": [
    {
     "data": {
      "text/plain": [
       "(933.0, 500.0)"
      ]
     },
     "execution_count": 79,
     "metadata": {},
     "output_type": "execute_result"
    }
   ],
   "source": [
    "df.loc_x.max(), df.loc_y.max()"
   ]
  },
  {
   "cell_type": "code",
   "execution_count": null,
   "metadata": {},
   "outputs": [],
   "source": [
    "df.loc_x.min(), df.loc_y.min()"
   ]
  },
  {
   "cell_type": "code",
   "execution_count": null,
   "metadata": {},
   "outputs": [],
   "source": [
    "width = df.loc_x.max() -  df.loc_x.min()\n",
    "height = df.loc_y.max() - df.loc_y.min()\n",
    "width, height, width/2"
   ]
  },
  {
   "cell_type": "code",
   "execution_count": null,
   "metadata": {},
   "outputs": [],
   "source": [
    "df.loc_x.mode(), df.loc_y.mode()"
   ]
  },
  {
   "cell_type": "code",
   "execution_count": null,
   "metadata": {},
   "outputs": [],
   "source": [
    "from matplotlib.patches import Circle, Rectangle, Arc\n",
    "\n",
    "def draw_court(ax=None, color='black', lw=2, outer_lines=False):\n",
    "    # If an axes object isn't provided to plot onto, just get current one\n",
    "    if ax is None:\n",
    "        ax = plt.gca()\n",
    "     \n",
    "    backboard1 = Rectangle((50, 225), -1, 50, linewidth=lw, color=color)\n",
    "    backboard2 = Rectangle((895, 225), 1, 50, linewidth=lw, color=color)\n",
    "    \n",
    "    hoop1 = Circle((60, 250), radius=6, linewidth=lw, color=color, fill=False)\n",
    "    hoop2 = Circle((885, 250), radius=6, linewidth=lw, color=color, fill=False)\n",
    "    \n",
    "    restricted1 = Arc((50, 250), 80, 80, angle=270, theta1=0, theta2=180, linewidth=lw,\n",
    "                     color=color)\n",
    "    \n",
    "    restricted2 = Arc((895, 250), 80, 80, angle=270, theta1=180, theta2=0, linewidth=lw,\n",
    "                     color=color)\n",
    "    \n",
    "    freethrow1_outer = Arc((195, 250), 100, 120, angle=270, theta1=0, theta2=180, linewidth=lw,\n",
    "                     color=color)\n",
    "    \n",
    "    freethrow2_outer = Arc((755, 250), 100, 120, angle=270, theta1=180, theta2=0, linewidth=lw,\n",
    "                     color=color)\n",
    "    \n",
    "    freethrow1_inner = Arc((195, 250), 100, 120, angle=270, theta1=180, theta2=0, linewidth=lw,\n",
    "                     color=color, linestyle='dashed')\n",
    "    \n",
    "    freethrow2_inner = Arc((755, 250), 100, 120, angle=270, theta1=0, theta2=180, linewidth=lw,\n",
    "                     color=color, linestyle='dashed')\n",
    "    \n",
    "    threepoint1 = Arc((90, 250), 450, 400, angle=270, theta1=0, theta2=180, linewidth=lw,\n",
    "                     color=color)\n",
    "    \n",
    "    threepoint2 = Arc((850, 250), 450, 400, angle=270, theta1=180, theta2=0, linewidth=lw,\n",
    "                     color=color)    \n",
    "    \n",
    "    innerbox1 = Rectangle((20, 200), 175, 100, linewidth=lw, color=color,\n",
    "                          fill=False)\n",
    "    \n",
    "    innerbox2 = Rectangle((930, 200), -175, 100, linewidth=lw, color=color,\n",
    "                          fill=False)\n",
    "    \n",
    "    outbox1 = Rectangle((20, 190), 175, 120, linewidth=lw, color=color,\n",
    "                          fill=False)\n",
    "    \n",
    "    outbox2 = Rectangle((930, 190), -175, 120, linewidth=lw, color=color,\n",
    "                          fill=False)\n",
    "    \n",
    "    half_court_line = Rectangle((470, 0), 1, 500, linewidth=lw, color=color,\n",
    "                          fill=False)\n",
    "    \n",
    "    half_court_circle  = Circle((470, 250), radius=60, linewidth=lw, color=color, fill=False)\n",
    "    \n",
    "    # List of the court elements to be plotted onto the axes\n",
    "    court_elements = [backboard1, backboard2, hoop1, hoop2, restricted1,\n",
    "                      restricted2, threepoint1, threepoint2, innerbox1,\n",
    "                      innerbox2, freethrow1_outer, freethrow2_outer,\n",
    "                      outbox1, outbox2, freethrow1_inner, freethrow2_inner,\n",
    "                      half_court_line, half_court_circle]\n",
    "    \n",
    "    if outer_lines:\n",
    "    # Draw the half court line, baseline and side out bound lines\n",
    "        outer_lines = Rectangle((20, 0), 910, 500, linewidth=lw,\n",
    "                                color=color, fill=False)\n",
    "        court_elements.append(outer_lines)\n",
    "    \n",
    "      # Add the court elements onto the axes\n",
    "    for element in court_elements:\n",
    "        ax.add_patch(element)\n",
    "    \n",
    "    ax.set_aspect('auto')\n",
    "    ax.set_xlabel('')\n",
    "    ax.set_ylabel('')\n",
    "    ax.tick_params(labelbottom='off', labelleft='off')\n",
    "    \n",
    "    return ax\n"
   ]
  },
  {
   "cell_type": "code",
   "execution_count": null,
   "metadata": {},
   "outputs": [],
   "source": [
    "plt.figure(figsize=(16,10))\n",
    "colors = np.where(df[\"outcome\"]=='SCORED','g','r')\n",
    "plt.scatter(df['loc_x'], df['loc_y'], c=colors, alp)\n",
    "draw_court(outer_lines=True)\n",
    "plt.show()"
   ]
  },
  {
   "cell_type": "code",
   "execution_count": null,
   "metadata": {},
   "outputs": [],
   "source": [
    "# create our jointplot\n",
    "joint_shot_chart = sns.jointplot(df.loc_x, df.loc_y, stat_func=None,\n",
    "                                 kind='scatter', space=0, alpha=0.5, joint_kws={\"color\":colors})\n",
    "\n",
    "joint_shot_chart.fig.set_size_inches(13,11)\n",
    "\n",
    "ax = joint_shot_chart.ax_joint\n",
    "\n",
    "draw_court(ax)\n",
    "\n",
    "ax.set_xlabel('')\n",
    "ax.set_ylabel('')\n",
    "ax.tick_params(labelbottom='off', labelleft='off')"
   ]
  }
 ],
 "metadata": {
  "kernelspec": {
   "display_name": "Python 3",
   "language": "python",
   "name": "python3"
  },
  "language_info": {
   "codemirror_mode": {
    "name": "ipython",
    "version": 3
   },
   "file_extension": ".py",
   "mimetype": "text/x-python",
   "name": "python",
   "nbconvert_exporter": "python",
   "pygments_lexer": "ipython3",
   "version": "3.7.3"
  }
 },
 "nbformat": 4,
 "nbformat_minor": 2
}
